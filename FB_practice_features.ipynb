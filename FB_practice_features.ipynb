{
  "cells": [
    {
      "cell_type": "code",
      "source": [
        "#Importing Libraries\n",
        "# please do go through this python notebook: \n",
        "import warnings\n",
        "warnings.filterwarnings(\"ignore\")\n",
        "\n",
        "import csv\n",
        "import pandas as pd#pandas to create small dataframes \n",
        "import datetime #Convert to unix time\n",
        "import time #Convert to unix time\n",
        "# if numpy is not installed already : pip3 install numpy\n",
        "import numpy as np#Do aritmetic operations on arrays\n",
        "# matplotlib: used to plot graphs\n",
        "import matplotlib\n",
        "import matplotlib.pylab as plt\n",
        "import seaborn as sns#Plots\n",
        "from matplotlib import rcParams#Size of plots  \n",
        "from sklearn.cluster import MiniBatchKMeans, KMeans#Clustering\n",
        "import math\n",
        "import pickle\n",
        "import os\n",
        "# to install xgboost: pip3 install xgboost\n",
        "import xgboost as xgb\n",
        "\n",
        "import warnings\n",
        "import networkx as nx\n",
        "\\\n",
        "import pdb\n",
        "import pickle\n",
        "from pandas import HDFStore,DataFrame\n",
        "from pandas import read_hdf\n",
        "from scipy.sparse.linalg import svds, eigs\n",
        "import gc\n",
        "from tqdm import tqdm"
      ],
      "metadata": {
        "id": "r-y2VY4fViaq"
      },
      "execution_count": null,
      "outputs": []
    },
    {
      "cell_type": "code",
      "source": [
        "!wget --header=\"Host: doc-00-ao-docs.googleusercontent.com\" --header=\"User-Agent: Mozilla/5.0 (Windows NT 6.1; Win64; x64) AppleWebKit/537.36 (KHTML, like Gecko) Chrome/100.0.4896.88 Safari/537.36\" --header=\"Accept: text/html,application/xhtml+xml,application/xml;q=0.9,image/avif,image/webp,image/apng,*/*;q=0.8,application/signed-exchange;v=b3;q=0.9\" --header=\"Accept-Language: en-US,en;q=0.9\" --header=\"Cookie: AUTH_os3ftn4tgjvd1o3qu47r0sa1m0inhkii_nonce=emv8sqbm4jqp4\" --header=\"Connection: keep-alive\" \"https://doc-00-ao-docs.googleusercontent.com/docs/securesc/kd8bgoddf9l2da66opbpq16cp4ioi5uj/7remm7hd75tr061gkknlodsn6l362v59/1650282675000/06629147635963609455/06611803433127174159/1XLHsIRXKLx9TA9nuC1SS7JDkLyRVmo69?e=download&ax=ACxEAsZW0QEOQjwaT70mHV4Hyd89zAqF-_fo-pGFPTK0QDkP6PvuDMjjN_WCJEeElQ0wkOeXG3-6PX1SohGNE8DaFl7t58OfFit3bE9fH9KEf8yNIkuqhPd2mZxS272ELBq2af0YR-J2YVa0bCggWL_Ns1xsVit_fX2S60RaAjXktgypj8f70_ld3BVeOHrlGHAh4gZnPVA_uUEUBe1rr34b3iw2QxYl_DBEkaX4Hx9zJtK5jXracePBvKDedj_ZKJyR8nKEC8TpvsU8Oxa4wWR61CNEf3PdY9IFXrOSfE8AK-2VVU_DCcFAozanAk4V-GopficFSiWfW_5qX_feMT34x1KC8IvS3sUr9IWAy9hYut5pFOSRymz0jwfdtsxq43t2iSTgVEhZI6WyGQN1YUymQTETTshphYTuDsO7gah7b1N4HsPe6qvX7NzPPmtJjtb30tOMrrZJFd5I49VbT1lj2miEK2NElVX7qzpio2ZlDuzpZKhXX8T6zN2_g76IDAJ5N9Da_d8u2rhiDYrQ2KSw3cr1sngnLpE1IgD3A6jRh5RL4TZ3NOz5vQ8Jf1eCIszx0TUodEH-myWdJSoU2-5Z55ETD8PGIV-1atgZjJc_XEFlBXZzy5UAhXlmO2sU5d9rsBK4fAimXSda0_SnSZkIiL7WjyfIKa6zwpS1povd4v1g1RybGsszGugqzD_Q66YjFAB3H2ozjnsImRf3aN_pzTEPLuAxuHTqSUul7li2tKY6-nlwwlY&authuser=0&nonce=emv8sqbm4jqp4&user=06611803433127174159&hash=gl3cj152vk0i8n9ncr6120l5oo31m4fu\" -c -O 'train_pos_after_eda.csv'"
      ],
      "metadata": {
        "colab": {
          "base_uri": "https://localhost:8080/"
        },
        "id": "OW5Rsppxg7kS",
        "outputId": "c88c3528-195a-476f-9077-972f5fdcbcf3"
      },
      "execution_count": null,
      "outputs": [
        {
          "output_type": "stream",
          "name": "stdout",
          "text": [
            "--2022-04-18 11:52:34--  https://doc-00-ao-docs.googleusercontent.com/docs/securesc/kd8bgoddf9l2da66opbpq16cp4ioi5uj/7remm7hd75tr061gkknlodsn6l362v59/1650282675000/06629147635963609455/06611803433127174159/1XLHsIRXKLx9TA9nuC1SS7JDkLyRVmo69?e=download&ax=ACxEAsZW0QEOQjwaT70mHV4Hyd89zAqF-_fo-pGFPTK0QDkP6PvuDMjjN_WCJEeElQ0wkOeXG3-6PX1SohGNE8DaFl7t58OfFit3bE9fH9KEf8yNIkuqhPd2mZxS272ELBq2af0YR-J2YVa0bCggWL_Ns1xsVit_fX2S60RaAjXktgypj8f70_ld3BVeOHrlGHAh4gZnPVA_uUEUBe1rr34b3iw2QxYl_DBEkaX4Hx9zJtK5jXracePBvKDedj_ZKJyR8nKEC8TpvsU8Oxa4wWR61CNEf3PdY9IFXrOSfE8AK-2VVU_DCcFAozanAk4V-GopficFSiWfW_5qX_feMT34x1KC8IvS3sUr9IWAy9hYut5pFOSRymz0jwfdtsxq43t2iSTgVEhZI6WyGQN1YUymQTETTshphYTuDsO7gah7b1N4HsPe6qvX7NzPPmtJjtb30tOMrrZJFd5I49VbT1lj2miEK2NElVX7qzpio2ZlDuzpZKhXX8T6zN2_g76IDAJ5N9Da_d8u2rhiDYrQ2KSw3cr1sngnLpE1IgD3A6jRh5RL4TZ3NOz5vQ8Jf1eCIszx0TUodEH-myWdJSoU2-5Z55ETD8PGIV-1atgZjJc_XEFlBXZzy5UAhXlmO2sU5d9rsBK4fAimXSda0_SnSZkIiL7WjyfIKa6zwpS1povd4v1g1RybGsszGugqzD_Q66YjFAB3H2ozjnsImRf3aN_pzTEPLuAxuHTqSUul7li2tKY6-nlwwlY&authuser=0&nonce=emv8sqbm4jqp4&user=06611803433127174159&hash=gl3cj152vk0i8n9ncr6120l5oo31m4fu\n",
            "Resolving doc-00-ao-docs.googleusercontent.com (doc-00-ao-docs.googleusercontent.com)... 173.194.216.132, 2607:f8b0:400c:c12::84\n",
            "Connecting to doc-00-ao-docs.googleusercontent.com (doc-00-ao-docs.googleusercontent.com)|173.194.216.132|:443... connected.\n",
            "HTTP request sent, awaiting response... 200 OK\n",
            "Length: 119333798 (114M) [text/csv]\n",
            "Saving to: ‘train_pos_after_eda.csv’\n",
            "\n",
            "train_pos_after_eda 100%[===================>] 113.80M   185MB/s    in 0.6s    \n",
            "\n",
            "2022-04-18 11:52:35 (185 MB/s) - ‘train_pos_after_eda.csv’ saved [119333798/119333798]\n",
            "\n"
          ]
        }
      ]
    },
    {
      "cell_type": "code",
      "source": [
        "if os.path.isfile('train_pos_after_eda.csv'):\n",
        "    train_graph=nx.read_edgelist('train_pos_after_eda.csv',delimiter=',',create_using=nx.DiGraph(),nodetype=int)\n",
        "    print(nx.info(train_graph))\n",
        "else:\n",
        "    print(\"please run the FB_EDA.ipynb or download the files from drive\")"
      ],
      "metadata": {
        "colab": {
          "base_uri": "https://localhost:8080/"
        },
        "id": "z5eSKsbggwm0",
        "outputId": "89300c7f-a59f-489d-9ac7-9b2acb15f3af"
      },
      "execution_count": null,
      "outputs": [
        {
          "output_type": "stream",
          "name": "stdout",
          "text": [
            "DiGraph with 1780722 nodes and 7550015 edges\n"
          ]
        }
      ]
    },
    {
      "cell_type": "markdown",
      "source": [
        "http://www.statisticshowto.com/jaccard-index/\n",
        "\n",
        "Jaccard Index"
      ],
      "metadata": {
        "id": "p-lVF5CPhvcb"
      }
    },
    {
      "cell_type": "code",
      "source": [
        "#Jaccard Indexx\n",
        "#for followees\n",
        "def jaccard_for_followees(a,b):\n",
        "    try:\n",
        "        if len(set(train_graph.successors(a))) == 0  | len(set(train_graph.successors(b))) == 0:\n",
        "            return 0\n",
        "        sim = (len(set(train_graph.successors(a)).intersection(set(train_graph.successors(b)))))/\\\n",
        "                                    (len(set(train_graph.successors(a)).union(set(train_graph.successors(b)))))\n",
        "    except:\n",
        "        return 0\n",
        "    return sim"
      ],
      "metadata": {
        "id": "Q4bY3QEbhaUN"
      },
      "execution_count": null,
      "outputs": []
    },
    {
      "cell_type": "code",
      "source": [
        "#for followers\n",
        "def jaccard_for_followers(a,b):\n",
        "    try:\n",
        "        if len(set(train_graph.predecessors(a))) == 0  | len(set(g.predecessors(b))) == 0:\n",
        "            return 0\n",
        "        sim = (len(set(train_graph.predecessors(a)).intersection(set(train_graph.predecessors(b)))))/\\\n",
        "                                 (len(set(train_graph.predecessors(a)).union(set(train_graph.predecessors(b)))))\n",
        "        return sim\n",
        "    except:\n",
        "        return 0"
      ],
      "metadata": {
        "id": "8bfG9nHZh5wn"
      },
      "execution_count": null,
      "outputs": []
    },
    {
      "cell_type": "markdown",
      "metadata": {
        "id": "XNvdBGS2VFGY"
      },
      "source": [
        "\\begin{equation}\n",
        "CosineDistance = \\frac{|X\\cap Y|}{|X|\\cdot|Y|} \n",
        "\\end{equation}"
      ]
    },
    {
      "cell_type": "code",
      "metadata": {
        "id": "Iznz67EdVFGZ"
      },
      "source": [
        "#for followees\n",
        "def cosine_for_followees(a,b):\n",
        "    try:\n",
        "        if len(set(train_graph.successors(a))) == 0  | len(set(train_graph.successors(b))) == 0:\n",
        "            return 0\n",
        "        sim = (len(set(train_graph.successors(a)).intersection(set(train_graph.successors(b)))))/\\\n",
        "                                    (math.sqrt(len(set(train_graph.successors(a)))*len((set(train_graph.successors(b))))))\n",
        "        return sim\n",
        "    except:\n",
        "        return 0"
      ],
      "execution_count": null,
      "outputs": []
    },
    {
      "cell_type": "code",
      "metadata": {
        "id": "KJ_yGxA0VFGj"
      },
      "source": [
        "#for followers\n",
        "def cosine_for_followers(a,b):\n",
        "    try:\n",
        "        \n",
        "        if len(set(train_graph.predecessors(a))) == 0  | len(set(train_graph.predecessors(b))) == 0:\n",
        "            return 0\n",
        "        sim = (len(set(train_graph.predecessors(a)).intersection(set(train_graph.predecessors(b)))))/\\\n",
        "                                     (math.sqrt(len(set(train_graph.predecessors(a))))*(len(set(train_graph.predecessors(b)))))\n",
        "        return sim\n",
        "    except:\n",
        "        return 0"
      ],
      "execution_count": null,
      "outputs": []
    },
    {
      "cell_type": "code",
      "metadata": {
        "id": "WXNHRdzUVFHz"
      },
      "source": [
        "#Page Ranking\n",
        "if not os.path.isfile('data/fea_sample/page_rank.p'):\n",
        "    pr = nx.pagerank(train_graph)\n",
        "    #pickle.dump(pr,open('data/fea_sample/page_rank.p','wb'))\n",
        "else:\n",
        "    pr = pickle.load(open('data/fea_sample/page_rank.p','rb'))"
      ],
      "execution_count": null,
      "outputs": []
    },
    {
      "cell_type": "code",
      "source": [
        "mean_pr=float(sum(pr.values())) / len(pr)"
      ],
      "metadata": {
        "id": "gTwGKfTQysXO"
      },
      "execution_count": null,
      "outputs": []
    },
    {
      "cell_type": "code",
      "metadata": {
        "id": "PSUwSZBVVFH3",
        "outputId": "12d49e4c-c76b-456a-a8a4-b2ba9bba786d",
        "colab": {
          "base_uri": "https://localhost:8080/"
        }
      },
      "source": [
        "print('min',pr[min(pr, key=pr.get)])\n",
        "print('max',pr[max(pr, key=pr.get)])\n",
        "print('mean',float(sum(pr.values())) / len(pr))"
      ],
      "execution_count": null,
      "outputs": [
        {
          "output_type": "stream",
          "name": "stdout",
          "text": [
            "min 1.6556497245737814e-07\n",
            "max 2.709825134193587e-05\n",
            "mean 5.615699699389075e-07\n"
          ]
        }
      ]
    },
    {
      "cell_type": "code",
      "metadata": {
        "id": "CN5OSqrkVFHj"
      },
      "source": [
        "#katz.centrality\n",
        "if not os.path.isfile('data/fea_sample/katz.p'):\n",
        "    katz = nx.katz.katz_centrality(train_graph,alpha=0.005,beta=1)\n",
        "    #pickle.dump(katz,open('data/fea_sample/katz.p','wb'))\n",
        "else:\n",
        "    katz = pickle.load(open('data/fea_sample/katz.p','rb'))"
      ],
      "execution_count": null,
      "outputs": []
    },
    {
      "cell_type": "code",
      "source": [
        "mean_katz=float(sum(katz.values())) / len(katz)"
      ],
      "metadata": {
        "id": "BVxI9ib8y3v-"
      },
      "execution_count": null,
      "outputs": []
    },
    {
      "cell_type": "code",
      "metadata": {
        "id": "gcU83vw7VFHm",
        "outputId": "6675ac3a-5953-48b4-b117-195cf3062d68",
        "colab": {
          "base_uri": "https://localhost:8080/"
        }
      },
      "source": [
        "print('min',katz[min(katz, key=katz.get)])\n",
        "print('max',katz[max(katz, key=katz.get)])\n",
        "print('mean',float(sum(katz.values())) / len(katz))"
      ],
      "execution_count": null,
      "outputs": [
        {
          "output_type": "stream",
          "name": "stdout",
          "text": [
            "min 0.0007313532484065916\n",
            "max 0.003394554981699122\n",
            "mean 0.0007483800935562018\n"
          ]
        }
      ]
    },
    {
      "cell_type": "markdown",
      "metadata": {
        "id": "E7teH2LCVFG9"
      },
      "source": [
        "Getting Shortest path between twoo nodes, if nodes have direct path i.e directly connected then we are removing that edge and calculating path. "
      ]
    },
    {
      "cell_type": "code",
      "metadata": {
        "id": "RA076ovzVFG9"
      },
      "source": [
        "#if has direct edge then deleting that edge and calculating shortest path\n",
        "def compute_shortest_path_length(a,b):\n",
        "    p=-1\n",
        "    try:\n",
        "        if train_graph.has_edge(a,b):\n",
        "            train_graph.remove_edge(a,b)\n",
        "            p= nx.shortest_path_length(train_graph,source=a,target=b)\n",
        "            train_graph.add_edge(a,b)\n",
        "        else:\n",
        "            p= nx.shortest_path_length(train_graph,source=a,target=b)\n",
        "        return p\n",
        "    except:\n",
        "        return -1"
      ],
      "execution_count": null,
      "outputs": []
    },
    {
      "cell_type": "code",
      "source": [
        "#getting weekly connected edges from graph \n",
        "wcc=list(nx.weakly_connected_components(train_graph))\n",
        "def belongs_to_same_wcc(a,b):\n",
        "    index = []\n",
        "    if train_graph.has_edge(b,a):\n",
        "        return 1\n",
        "    if train_graph.has_edge(a,b):\n",
        "            for i in wcc:\n",
        "                if a in i:\n",
        "                    index= i\n",
        "                    break\n",
        "            if (b in index):\n",
        "                train_graph.remove_edge(a,b)\n",
        "                if compute_shortest_path_length(a,b)==-1:\n",
        "                    train_graph.add_edge(a,b)\n",
        "                    return 0\n",
        "                else:\n",
        "                    train_graph.add_edge(a,b)\n",
        "                    return 1\n",
        "            else:\n",
        "                return 0\n",
        "    else:\n",
        "            for i in wcc:\n",
        "                if a in i:\n",
        "                    index= i\n",
        "                    break\n",
        "            if(b in index):\n",
        "                return 1\n",
        "            else:\n",
        "                return 0"
      ],
      "metadata": {
        "id": "LpmVgQ6yCYoP"
      },
      "execution_count": null,
      "outputs": []
    },
    {
      "cell_type": "markdown",
      "metadata": {
        "id": "q74nth0OVFHN"
      },
      "source": [
        "## 4.3 Adamic/Adar Index:\n",
        "Adamic/Adar measures is defined as inverted sum of degrees of common neighbours for given two vertices.\n",
        "$$A(x,y)=\\sum_{u \\in N(x) \\cap N(y)}\\frac{1}{log(|N(u)|)}$$"
      ]
    },
    {
      "cell_type": "code",
      "metadata": {
        "id": "CeS98LI5VFHO"
      },
      "source": [
        "#adar index\n",
        "def calc_adar_in(a,b):\n",
        "    sum=0\n",
        "    try:\n",
        "        n=list(set(train_graph.successors(a)).intersection(set(train_graph.successors(b))))\n",
        "        if len(n)!=0:\n",
        "            for i in n:\n",
        "                sum=sum+(1/np.log10(len(list(train_graph.predecessors(i)))))\n",
        "            return sum\n",
        "        else:\n",
        "            return 0\n",
        "    except:\n",
        "        return 0"
      ],
      "execution_count": null,
      "outputs": []
    },
    {
      "cell_type": "markdown",
      "metadata": {
        "id": "pBUudhFAVFHY"
      },
      "source": [
        "## 4.4 Is persion was following back:"
      ]
    },
    {
      "cell_type": "code",
      "metadata": {
        "id": "j_mwmopLVFHZ"
      },
      "source": [
        "def follows_back(a,b):\n",
        "    if train_graph.has_edge(b,a):\n",
        "        return 1\n",
        "    else:\n",
        "        return 0"
      ],
      "execution_count": null,
      "outputs": []
    },
    {
      "cell_type": "markdown",
      "metadata": {
        "id": "SRZqGFgYVFHx"
      },
      "source": [
        "## 4.6 Hits Score\n",
        "The HITS algorithm computes two numbers for a node. Authorities estimates the node value based on the incoming links. Hubs estimates the node value based on outgoing links.\n",
        "\n",
        "https://en.wikipedia.org/wiki/HITS_algorithm"
      ]
    },
    {
      "cell_type": "code",
      "metadata": {
        "id": "myJ_EDFkDcJN"
      },
      "source": [
        "if not os.path.isfile('data/fea_sample/hits.p'):\n",
        "    hits = nx.hits(train_graph, max_iter=100, tol=1e-08, nstart=None, normalized=True)\n",
        "    #pickle.dump(hits,open('data/fea_sample/hits.p','wb'))\n",
        "else:\n",
        "    hits = pickle.load(open('data/fea_sample/hits.p','rb'))"
      ],
      "execution_count": null,
      "outputs": []
    },
    {
      "cell_type": "code",
      "metadata": {
        "outputId": "254e5d28-ec8c-439f-8093-fbae72f47511",
        "colab": {
          "base_uri": "https://localhost:8080/"
        },
        "id": "EyddAugKDcJO"
      },
      "source": [
        "print('min',hits[0][min(hits[0], key=hits[0].get)])\n",
        "print('max',hits[0][max(hits[0], key=hits[0].get)])\n",
        "print('mean',float(sum(hits[0].values())) / len(hits[0]))"
      ],
      "execution_count": null,
      "outputs": [
        {
          "output_type": "stream",
          "name": "stdout",
          "text": [
            "min -2.636624873512981e-20\n",
            "max 0.00486865337953898\n",
            "mean 5.61569969930867e-07\n"
          ]
        }
      ]
    },
    {
      "cell_type": "code",
      "source": [
        "!wget --header=\"Host: doc-0g-ao-docs.googleusercontent.com\" --header=\"User-Agent: Mozilla/5.0 (Windows NT 6.1; Win64; x64) AppleWebKit/537.36 (KHTML, like Gecko) Chrome/100.0.4896.88 Safari/537.36\" --header=\"Accept: text/html,application/xhtml+xml,application/xml;q=0.9,image/avif,image/webp,image/apng,*/*;q=0.8,application/signed-exchange;v=b3;q=0.9\" --header=\"Accept-Language: en-US,en;q=0.9\" --header=\"Cookie: AUTH_os3ftn4tgjvd1o3qu47r0sa1m0inhkii_nonce=8f2qp8uc47m48\" --header=\"Connection: keep-alive\" \"https://doc-0g-ao-docs.googleusercontent.com/docs/securesc/kd8bgoddf9l2da66opbpq16cp4ioi5uj/9lr2s6c293s9jh5nadd2uirtbcavm9qj/1650293700000/06629147635963609455/06611803433127174159/1lcxzVZ0-MkPmoH3lS35Q8rRfrecKSXb1?e=download&ax=ACxEAsYxrdyUaaKaqsl_A_FxpY8_hWqHr7eODzGbzIZOOzjr5GVKHsahvzgzvI5A6MwtPyzxoFizVmaAfIRNIHFhobWO4UJtw6Hrb9fDgGdeKG8buX2cNuQK1UipAbL3nmETWtjAIU6--GD1Ena-co2tbfbNbDqve_lqPslN1All6feEBcOZ8gb0m0k3lTFQbYMvqdaJifPszyTVP1duOLzovDR7vwBds1HX6BhLatFaoXYMoeH9YUpUbFtK-fIvnfbfohICa4RVKSMW0n8hiQ85a8whXKNfLzwFNxkBr8DY4GaPrifOE4yYHTzW0-yhABWZNVQs-zo3Y4IMBZ2W9kggL0wc99tvRZS4cGOMmU6x0pZ7TWVwiT6dc3yge_Jmb80p3ASYVOGrOnfr6lFYSXb0ycIJjtYXwBF58lhuytRiWx1xcB5nTPm1ieqI6zKB-dwKAERif1SNDo-F8kUc7R37MlnU9HwTtZLnDha3-1Z4lx40O_6vSPBOqdMrrps38tmtA0vSGwGFbfD9Xgy0ztID1IyAmp5sg5y3nm19bN5nLQ1IhOewiUjU4oRa3S-ucflbcrmLik5Ph8VTSBjrxQ3l6P6Zd1AogL7U9caxAZTa6Z_LIrazrpMGrIGcFw5NGF3OgaQrkppaSdCYUfO90fTtG62Hr0qS1dqLzUg8Csj1LSIsHz2UY-Y16lgZDJ_LeL8uDmz0UY4hdLDqWZeoDgcbo-izLk2IkzWfzrR7-Y1EYsJoc473d3s&authuser=0&nonce=8f2qp8uc47m48&user=06611803433127174159&hash=f223bqfvdjfsav6hga5d16sgaj02r1o9\" -c -O 'train_after_eda.csv'"
      ],
      "metadata": {
        "colab": {
          "base_uri": "https://localhost:8080/"
        },
        "id": "uBtz8h-sLNaO",
        "outputId": "d3beab66-9de5-489f-e345-b17e315879ed"
      },
      "execution_count": null,
      "outputs": [
        {
          "output_type": "stream",
          "name": "stdout",
          "text": [
            "--2022-04-18 14:56:35--  https://doc-0g-ao-docs.googleusercontent.com/docs/securesc/kd8bgoddf9l2da66opbpq16cp4ioi5uj/9lr2s6c293s9jh5nadd2uirtbcavm9qj/1650293700000/06629147635963609455/06611803433127174159/1lcxzVZ0-MkPmoH3lS35Q8rRfrecKSXb1?e=download&ax=ACxEAsYxrdyUaaKaqsl_A_FxpY8_hWqHr7eODzGbzIZOOzjr5GVKHsahvzgzvI5A6MwtPyzxoFizVmaAfIRNIHFhobWO4UJtw6Hrb9fDgGdeKG8buX2cNuQK1UipAbL3nmETWtjAIU6--GD1Ena-co2tbfbNbDqve_lqPslN1All6feEBcOZ8gb0m0k3lTFQbYMvqdaJifPszyTVP1duOLzovDR7vwBds1HX6BhLatFaoXYMoeH9YUpUbFtK-fIvnfbfohICa4RVKSMW0n8hiQ85a8whXKNfLzwFNxkBr8DY4GaPrifOE4yYHTzW0-yhABWZNVQs-zo3Y4IMBZ2W9kggL0wc99tvRZS4cGOMmU6x0pZ7TWVwiT6dc3yge_Jmb80p3ASYVOGrOnfr6lFYSXb0ycIJjtYXwBF58lhuytRiWx1xcB5nTPm1ieqI6zKB-dwKAERif1SNDo-F8kUc7R37MlnU9HwTtZLnDha3-1Z4lx40O_6vSPBOqdMrrps38tmtA0vSGwGFbfD9Xgy0ztID1IyAmp5sg5y3nm19bN5nLQ1IhOewiUjU4oRa3S-ucflbcrmLik5Ph8VTSBjrxQ3l6P6Zd1AogL7U9caxAZTa6Z_LIrazrpMGrIGcFw5NGF3OgaQrkppaSdCYUfO90fTtG62Hr0qS1dqLzUg8Csj1LSIsHz2UY-Y16lgZDJ_LeL8uDmz0UY4hdLDqWZeoDgcbo-izLk2IkzWfzrR7-Y1EYsJoc473d3s&authuser=0&nonce=8f2qp8uc47m48&user=06611803433127174159&hash=f223bqfvdjfsav6hga5d16sgaj02r1o9\n",
            "Resolving doc-0g-ao-docs.googleusercontent.com (doc-0g-ao-docs.googleusercontent.com)... 173.194.217.132, 2607:f8b0:400c:c13::84\n",
            "Connecting to doc-0g-ao-docs.googleusercontent.com (doc-0g-ao-docs.googleusercontent.com)|173.194.217.132|:443... connected.\n",
            "HTTP request sent, awaiting response... 416 Requested range not satisfiable\n",
            "\n",
            "    The file is already fully retrieved; nothing to do.\n",
            "\n"
          ]
        }
      ]
    },
    {
      "cell_type": "code",
      "source": [
        "import random\n",
        "if os.path.isfile('train_after_eda.csv'):\n",
        "    filename = \"train_after_eda.csv\"\n",
        "    # you uncomment this line, if you dont know the lentgh of the file name\n",
        "    # here we have hardcoded the number of lines as 15100030\n",
        "    # n_train = sum(1 for line in open(filename)) #number of records in file (excludes header)\n",
        "    n_train =  15100028\n",
        "    s = 100000 #desired sample size\n",
        "    skip_train = sorted(random.sample(range(1,n_train+1),n_train-s))\n",
        "    #https://stackoverflow.com/a/22259008/4084039"
      ],
      "metadata": {
        "id": "3y5pWJ5BITbc"
      },
      "execution_count": null,
      "outputs": []
    },
    {
      "cell_type": "code",
      "source": [
        "if os.path.isfile('train_after_eda.csv'):\n",
        "    filename = \"test_after_eda.csv\"\n",
        "    # you uncomment this line, if you dont know the lentgh of the file name\n",
        "    # here we have hardcoded the number of lines as 3775008\n",
        "    # n_test = sum(1 for line in open(filename)) #number of records in file (excludes header)\n",
        "    n_test = 3775006\n",
        "    s = 50000 #desired sample size\n",
        "    skip_test = sorted(random.sample(range(1,n_test+1),n_test-s))\n",
        "    #https://stackoverflow.com/a/22259008/4084039"
      ],
      "metadata": {
        "id": "GZ65IaI4JcDV"
      },
      "execution_count": null,
      "outputs": []
    },
    {
      "cell_type": "code",
      "source": [
        "print(\"Number of rows in the train data file:\", n_train)\n",
        "print(\"Number of rows we are going to elimiate in train data are\",len(skip_train))\n",
        "print(\"Number of rows in the test data file:\", n_test)\n",
        "print(\"Number of rows we are going to elimiate in test data are\",len(skip_test))"
      ],
      "metadata": {
        "colab": {
          "base_uri": "https://localhost:8080/"
        },
        "id": "sM2nVI_bJ-nk",
        "outputId": "12dbc10b-4187-471b-8471-c6c599ab24f2"
      },
      "execution_count": null,
      "outputs": [
        {
          "output_type": "stream",
          "name": "stdout",
          "text": [
            "Number of rows in the train data file: 15100028\n",
            "Number of rows we are going to elimiate in train data are 15000028\n",
            "Number of rows in the test data file: 3775006\n",
            "Number of rows we are going to elimiate in test data are 3725006\n"
          ]
        }
      ]
    },
    {
      "cell_type": "code",
      "source": [
        "!wget --header=\"Host: doc-14-ao-docs.googleusercontent.com\" --header=\"User-Agent: Mozilla/5.0 (Windows NT 6.1; Win64; x64) AppleWebKit/537.36 (KHTML, like Gecko) Chrome/100.0.4896.88 Safari/537.36\" --header=\"Accept: text/html,application/xhtml+xml,application/xml;q=0.9,image/avif,image/webp,image/apng,*/*;q=0.8,application/signed-exchange;v=b3;q=0.9\" --header=\"Accept-Language: en-US,en;q=0.9\" --header=\"Cookie: AUTH_os3ftn4tgjvd1o3qu47r0sa1m0inhkii_nonce=77lcsg74nuuhs\" --header=\"Connection: keep-alive\" \"https://doc-14-ao-docs.googleusercontent.com/docs/securesc/kd8bgoddf9l2da66opbpq16cp4ioi5uj/gklotl23s9gh9o1ri0vkuvjqnhbd2qf0/1650295425000/06629147635963609455/06611803433127174159/19mviN_yeJIfakb4kU5NfKdQlOQtaQ-kH?e=download&ax=ACxEAsbEwTHmebJPguC1MWqVQ5oSroFHkxqQ8TueTUiNaaG7YAXBwsN3yemSBbpfXnNyPJCaT_pEMOq5nNozSFxwCtI8DKB8ZKZsapjtYUN9bquD3dA0TowRSeAh-G3cdNNqbGAx3oN1l8_bwA1U1RSaB2XtoWIcsjdltZXokH9vFrxW6-0qzkxcdS2Bg3acj4r1-kIi6msCyvpRW7O5ndXDCgGNoZd5cvIRWKmYdFqqcD6WL5cqy5vdX9Clluokih0zrPQpz8sNn2dhil1bcdfB-_CqJlIfn3zJRWvBqxjPfL5sxav8nbIBA9PbgufvXc_aRnjXoLKmw19kpx8P2SGwpqaAmSKATbi1v_66oKS5Vj5iyKPI30OuNbDhy7YNtikL0xjyb1BYbRHCHi0HjmCEymmXlkB9FjAkFB0vwk4T3ZdVzBB2TvZtKCW3MXqYDrG7krcwdMXZGgi2E7XSi9QTaTWRroaHcjMNdW6j0_n2Bjjd-6nt0bR8rq7Idy4GqZtvAF9M7LC6QknvGi1HRFYDH5nUYO7-CuEkAGGu9V_OhvZvpOe2wsF41qtgKOTUXJH_5jITd_0Oimeyv4OMUxTK9LI4ytgzqD3RV7SASMyKrNCzMDDLJR3uT4yP9URzdvAyWKs2V-BuHJWpzw0Mo89CuxBPuiz0-nb0oTGOUeTtDM47DX3CvcRdkOSt6V6pMpchWgPjROsWWJX7F0GGVAlXTlQlvtDR4xMA5OXVZi5mRQYw8uvaEMc&authuser=0&nonce=77lcsg74nuuhs&user=06611803433127174159&hash=97aj94ib7698gncg521pgrcihnq6ejec\" -c -O 'train_y.csv'"
      ],
      "metadata": {
        "colab": {
          "base_uri": "https://localhost:8080/"
        },
        "id": "14TWwgmrL1XR",
        "outputId": "22fa9e87-fb11-416f-8d70-ff62113bae36"
      },
      "execution_count": null,
      "outputs": [
        {
          "output_type": "stream",
          "name": "stdout",
          "text": [
            "--2022-04-18 15:24:39--  https://doc-14-ao-docs.googleusercontent.com/docs/securesc/kd8bgoddf9l2da66opbpq16cp4ioi5uj/gklotl23s9gh9o1ri0vkuvjqnhbd2qf0/1650295425000/06629147635963609455/06611803433127174159/19mviN_yeJIfakb4kU5NfKdQlOQtaQ-kH?e=download&ax=ACxEAsbEwTHmebJPguC1MWqVQ5oSroFHkxqQ8TueTUiNaaG7YAXBwsN3yemSBbpfXnNyPJCaT_pEMOq5nNozSFxwCtI8DKB8ZKZsapjtYUN9bquD3dA0TowRSeAh-G3cdNNqbGAx3oN1l8_bwA1U1RSaB2XtoWIcsjdltZXokH9vFrxW6-0qzkxcdS2Bg3acj4r1-kIi6msCyvpRW7O5ndXDCgGNoZd5cvIRWKmYdFqqcD6WL5cqy5vdX9Clluokih0zrPQpz8sNn2dhil1bcdfB-_CqJlIfn3zJRWvBqxjPfL5sxav8nbIBA9PbgufvXc_aRnjXoLKmw19kpx8P2SGwpqaAmSKATbi1v_66oKS5Vj5iyKPI30OuNbDhy7YNtikL0xjyb1BYbRHCHi0HjmCEymmXlkB9FjAkFB0vwk4T3ZdVzBB2TvZtKCW3MXqYDrG7krcwdMXZGgi2E7XSi9QTaTWRroaHcjMNdW6j0_n2Bjjd-6nt0bR8rq7Idy4GqZtvAF9M7LC6QknvGi1HRFYDH5nUYO7-CuEkAGGu9V_OhvZvpOe2wsF41qtgKOTUXJH_5jITd_0Oimeyv4OMUxTK9LI4ytgzqD3RV7SASMyKrNCzMDDLJR3uT4yP9URzdvAyWKs2V-BuHJWpzw0Mo89CuxBPuiz0-nb0oTGOUeTtDM47DX3CvcRdkOSt6V6pMpchWgPjROsWWJX7F0GGVAlXTlQlvtDR4xMA5OXVZi5mRQYw8uvaEMc&authuser=0&nonce=77lcsg74nuuhs&user=06611803433127174159&hash=97aj94ib7698gncg521pgrcihnq6ejec\n",
            "Resolving doc-14-ao-docs.googleusercontent.com (doc-14-ao-docs.googleusercontent.com)... 173.194.216.132, 2607:f8b0:400c:c12::84\n",
            "Connecting to doc-14-ao-docs.googleusercontent.com (doc-14-ao-docs.googleusercontent.com)|173.194.216.132|:443... connected.\n",
            "HTTP request sent, awaiting response... 200 OK\n",
            "Length: 45300090 (43M) [text/csv]\n",
            "Saving to: ‘train_y.csv’\n",
            "\n",
            "train_y.csv         100%[===================>]  43.20M   112MB/s    in 0.4s    \n",
            "\n",
            "2022-04-18 15:24:40 (112 MB/s) - ‘train_y.csv’ saved [45300090/45300090]\n",
            "\n"
          ]
        }
      ]
    },
    {
      "cell_type": "code",
      "source": [
        "df_final_train = pd.read_csv('train_after_eda.csv', skiprows=skip_train, names=['source_node', 'destination_node'])\n",
        "df_final_train['indicator_link'] = pd.read_csv('train_y.csv', skiprows=skip_train, names=['indicator_link'])\n",
        "print(\"Our train matrix size \",df_final_train.shape)\n",
        "df_final_train.head(2)"
      ],
      "metadata": {
        "colab": {
          "base_uri": "https://localhost:8080/",
          "height": 129
        },
        "id": "YLvnwKbrLrkL",
        "outputId": "4caa2987-0763-4111-e600-feca527b91df"
      },
      "execution_count": null,
      "outputs": [
        {
          "output_type": "stream",
          "name": "stdout",
          "text": [
            "Our train matrix size  (100002, 3)\n"
          ]
        },
        {
          "output_type": "execute_result",
          "data": {
            "text/plain": [
              "   source_node  destination_node  indicator_link\n",
              "0       273084           1505602               1\n",
              "1      1722833            544361               1"
            ],
            "text/html": [
              "\n",
              "  <div id=\"df-21d962e5-1e1a-4dde-93b9-0bf8a1cf81cb\">\n",
              "    <div class=\"colab-df-container\">\n",
              "      <div>\n",
              "<style scoped>\n",
              "    .dataframe tbody tr th:only-of-type {\n",
              "        vertical-align: middle;\n",
              "    }\n",
              "\n",
              "    .dataframe tbody tr th {\n",
              "        vertical-align: top;\n",
              "    }\n",
              "\n",
              "    .dataframe thead th {\n",
              "        text-align: right;\n",
              "    }\n",
              "</style>\n",
              "<table border=\"1\" class=\"dataframe\">\n",
              "  <thead>\n",
              "    <tr style=\"text-align: right;\">\n",
              "      <th></th>\n",
              "      <th>source_node</th>\n",
              "      <th>destination_node</th>\n",
              "      <th>indicator_link</th>\n",
              "    </tr>\n",
              "  </thead>\n",
              "  <tbody>\n",
              "    <tr>\n",
              "      <th>0</th>\n",
              "      <td>273084</td>\n",
              "      <td>1505602</td>\n",
              "      <td>1</td>\n",
              "    </tr>\n",
              "    <tr>\n",
              "      <th>1</th>\n",
              "      <td>1722833</td>\n",
              "      <td>544361</td>\n",
              "      <td>1</td>\n",
              "    </tr>\n",
              "  </tbody>\n",
              "</table>\n",
              "</div>\n",
              "      <button class=\"colab-df-convert\" onclick=\"convertToInteractive('df-21d962e5-1e1a-4dde-93b9-0bf8a1cf81cb')\"\n",
              "              title=\"Convert this dataframe to an interactive table.\"\n",
              "              style=\"display:none;\">\n",
              "        \n",
              "  <svg xmlns=\"http://www.w3.org/2000/svg\" height=\"24px\"viewBox=\"0 0 24 24\"\n",
              "       width=\"24px\">\n",
              "    <path d=\"M0 0h24v24H0V0z\" fill=\"none\"/>\n",
              "    <path d=\"M18.56 5.44l.94 2.06.94-2.06 2.06-.94-2.06-.94-.94-2.06-.94 2.06-2.06.94zm-11 1L8.5 8.5l.94-2.06 2.06-.94-2.06-.94L8.5 2.5l-.94 2.06-2.06.94zm10 10l.94 2.06.94-2.06 2.06-.94-2.06-.94-.94-2.06-.94 2.06-2.06.94z\"/><path d=\"M17.41 7.96l-1.37-1.37c-.4-.4-.92-.59-1.43-.59-.52 0-1.04.2-1.43.59L10.3 9.45l-7.72 7.72c-.78.78-.78 2.05 0 2.83L4 21.41c.39.39.9.59 1.41.59.51 0 1.02-.2 1.41-.59l7.78-7.78 2.81-2.81c.8-.78.8-2.07 0-2.86zM5.41 20L4 18.59l7.72-7.72 1.47 1.35L5.41 20z\"/>\n",
              "  </svg>\n",
              "      </button>\n",
              "      \n",
              "  <style>\n",
              "    .colab-df-container {\n",
              "      display:flex;\n",
              "      flex-wrap:wrap;\n",
              "      gap: 12px;\n",
              "    }\n",
              "\n",
              "    .colab-df-convert {\n",
              "      background-color: #E8F0FE;\n",
              "      border: none;\n",
              "      border-radius: 50%;\n",
              "      cursor: pointer;\n",
              "      display: none;\n",
              "      fill: #1967D2;\n",
              "      height: 32px;\n",
              "      padding: 0 0 0 0;\n",
              "      width: 32px;\n",
              "    }\n",
              "\n",
              "    .colab-df-convert:hover {\n",
              "      background-color: #E2EBFA;\n",
              "      box-shadow: 0px 1px 2px rgba(60, 64, 67, 0.3), 0px 1px 3px 1px rgba(60, 64, 67, 0.15);\n",
              "      fill: #174EA6;\n",
              "    }\n",
              "\n",
              "    [theme=dark] .colab-df-convert {\n",
              "      background-color: #3B4455;\n",
              "      fill: #D2E3FC;\n",
              "    }\n",
              "\n",
              "    [theme=dark] .colab-df-convert:hover {\n",
              "      background-color: #434B5C;\n",
              "      box-shadow: 0px 1px 3px 1px rgba(0, 0, 0, 0.15);\n",
              "      filter: drop-shadow(0px 1px 2px rgba(0, 0, 0, 0.3));\n",
              "      fill: #FFFFFF;\n",
              "    }\n",
              "  </style>\n",
              "\n",
              "      <script>\n",
              "        const buttonEl =\n",
              "          document.querySelector('#df-21d962e5-1e1a-4dde-93b9-0bf8a1cf81cb button.colab-df-convert');\n",
              "        buttonEl.style.display =\n",
              "          google.colab.kernel.accessAllowed ? 'block' : 'none';\n",
              "\n",
              "        async function convertToInteractive(key) {\n",
              "          const element = document.querySelector('#df-21d962e5-1e1a-4dde-93b9-0bf8a1cf81cb');\n",
              "          const dataTable =\n",
              "            await google.colab.kernel.invokeFunction('convertToInteractive',\n",
              "                                                     [key], {});\n",
              "          if (!dataTable) return;\n",
              "\n",
              "          const docLinkHtml = 'Like what you see? Visit the ' +\n",
              "            '<a target=\"_blank\" href=https://colab.research.google.com/notebooks/data_table.ipynb>data table notebook</a>'\n",
              "            + ' to learn more about interactive tables.';\n",
              "          element.innerHTML = '';\n",
              "          dataTable['output_type'] = 'display_data';\n",
              "          await google.colab.output.renderOutput(dataTable, element);\n",
              "          const docLink = document.createElement('div');\n",
              "          docLink.innerHTML = docLinkHtml;\n",
              "          element.appendChild(docLink);\n",
              "        }\n",
              "      </script>\n",
              "    </div>\n",
              "  </div>\n",
              "  "
            ]
          },
          "metadata": {},
          "execution_count": 60
        }
      ]
    },
    {
      "cell_type": "code",
      "source": [
        "!wget --header=\"Host: doc-00-ao-docs.googleusercontent.com\" --header=\"User-Agent: Mozilla/5.0 (Windows NT 6.1; Win64; x64) AppleWebKit/537.36 (KHTML, like Gecko) Chrome/100.0.4896.88 Safari/537.36\" --header=\"Accept: text/html,application/xhtml+xml,application/xml;q=0.9,image/avif,image/webp,image/apng,*/*;q=0.8,application/signed-exchange;v=b3;q=0.9\" --header=\"Accept-Language: en-US,en;q=0.9\" --header=\"Cookie: AUTH_os3ftn4tgjvd1o3qu47r0sa1m0inhkii_nonce=3tifg4k9dml78\" --header=\"Connection: keep-alive\" \"https://doc-00-ao-docs.googleusercontent.com/docs/securesc/kd8bgoddf9l2da66opbpq16cp4ioi5uj/gqc8i9lpkba0ri37ms3l5i2i4o386ess/1650294150000/06629147635963609455/06611803433127174159/1H6qybuXr8i_USWu3k3ulXEOurc-SElUh?e=download&ax=ACxEAsZjhkFBTqK9DWBc8zy7QlsjW6Xgy8sbPfWDbjDdME9G2pXspOsIdWHpGoXxNXrXv-znmLRQajOk5XTqXVhZFaxh7wtZ__GBqofoKMsV11knxKLjTPebER9ax9DQ6L3UCbzYjtp-Fsv6ixMGZqEGUlpryxzcvb4ZtYwH6KxKF7VJLlzm_IWdC9UIUMV0diYSUtp4bEGGAyLo-U8qvzNNSRQzyHYsBWMjXyPgb2Ht4HoAptqseokmA_eHCE4pbY1GU_qPf_gJvZ97qPfsClPdmknGX1n4vjaMUUcvYizvkZV9unEN4IwTtvyCkcsDT17HCx5f0gw6i8yOmW3XX68tNCXGO3S8iN7kuu6Q2uo9cM2hEWSAEe1W4gKAv8UFWucmrVTYfj4OTDzVVv-A4k_dmllBWbsaPIRsQpFzYZE5qmncZmRRTVg09Rd6pJ7MVfFZmfd61kC9_qmhfrMXJ2meKkDEgLdhl3fgKJuD04rHO6WXCffMc9OSJlJSEPVigMtsIhdorzxp39GFLk-COQmNc0HdU_lvfvFUSeiBPyJ5h3ZPAcqUMazolXmVQDEuFMhNm1QEEYa43xdN8NCo-xbW7-0cLEVdt76BNhrdG5Z-b0dl2SDHtCQ7Tb5c9vik8dYsOSVy08gqbPUiPZw9T_bIYHDJOuWxV4QqemOxXim3GxQHi_pm9riOfq55zEw0sNm7zHNXPlMV-HKw8LuPz7h3dFPwpkMN_ObUVa-3xqxSuh-m3e66kVY&authuser=0&nonce=3tifg4k9dml78&user=06611803433127174159&hash=9aggb28bbim7n9hakku92rpki5vktra2\" -c -O 'test_y.csv'"
      ],
      "metadata": {
        "colab": {
          "base_uri": "https://localhost:8080/"
        },
        "id": "4kTbuzJvMkIo",
        "outputId": "b9c93725-4dc4-4ff3-e511-ed47e54328f4"
      },
      "execution_count": null,
      "outputs": [
        {
          "output_type": "stream",
          "name": "stdout",
          "text": [
            "--2022-04-18 15:02:51--  https://doc-00-ao-docs.googleusercontent.com/docs/securesc/kd8bgoddf9l2da66opbpq16cp4ioi5uj/gqc8i9lpkba0ri37ms3l5i2i4o386ess/1650294150000/06629147635963609455/06611803433127174159/1H6qybuXr8i_USWu3k3ulXEOurc-SElUh?e=download&ax=ACxEAsZjhkFBTqK9DWBc8zy7QlsjW6Xgy8sbPfWDbjDdME9G2pXspOsIdWHpGoXxNXrXv-znmLRQajOk5XTqXVhZFaxh7wtZ__GBqofoKMsV11knxKLjTPebER9ax9DQ6L3UCbzYjtp-Fsv6ixMGZqEGUlpryxzcvb4ZtYwH6KxKF7VJLlzm_IWdC9UIUMV0diYSUtp4bEGGAyLo-U8qvzNNSRQzyHYsBWMjXyPgb2Ht4HoAptqseokmA_eHCE4pbY1GU_qPf_gJvZ97qPfsClPdmknGX1n4vjaMUUcvYizvkZV9unEN4IwTtvyCkcsDT17HCx5f0gw6i8yOmW3XX68tNCXGO3S8iN7kuu6Q2uo9cM2hEWSAEe1W4gKAv8UFWucmrVTYfj4OTDzVVv-A4k_dmllBWbsaPIRsQpFzYZE5qmncZmRRTVg09Rd6pJ7MVfFZmfd61kC9_qmhfrMXJ2meKkDEgLdhl3fgKJuD04rHO6WXCffMc9OSJlJSEPVigMtsIhdorzxp39GFLk-COQmNc0HdU_lvfvFUSeiBPyJ5h3ZPAcqUMazolXmVQDEuFMhNm1QEEYa43xdN8NCo-xbW7-0cLEVdt76BNhrdG5Z-b0dl2SDHtCQ7Tb5c9vik8dYsOSVy08gqbPUiPZw9T_bIYHDJOuWxV4QqemOxXim3GxQHi_pm9riOfq55zEw0sNm7zHNXPlMV-HKw8LuPz7h3dFPwpkMN_ObUVa-3xqxSuh-m3e66kVY&authuser=0&nonce=3tifg4k9dml78&user=06611803433127174159&hash=9aggb28bbim7n9hakku92rpki5vktra2\n",
            "Resolving doc-00-ao-docs.googleusercontent.com (doc-00-ao-docs.googleusercontent.com)... 173.194.216.132, 2607:f8b0:400c:c13::84\n",
            "Connecting to doc-00-ao-docs.googleusercontent.com (doc-00-ao-docs.googleusercontent.com)|173.194.216.132|:443... connected.\n",
            "HTTP request sent, awaiting response... 200 OK\n",
            "Length: 11325024 (11M) [text/csv]\n",
            "Saving to: ‘test_y.csv’\n",
            "\n",
            "test_y.csv          100%[===================>]  10.80M  51.7MB/s    in 0.2s    \n",
            "\n",
            "2022-04-18 15:02:51 (51.7 MB/s) - ‘test_y.csv’ saved [11325024/11325024]\n",
            "\n"
          ]
        }
      ]
    },
    {
      "cell_type": "code",
      "source": [
        "!wget --header=\"Host: doc-04-ao-docs.googleusercontent.com\" --header=\"User-Agent: Mozilla/5.0 (Windows NT 6.1; Win64; x64) AppleWebKit/537.36 (KHTML, like Gecko) Chrome/100.0.4896.88 Safari/537.36\" --header=\"Accept: text/html,application/xhtml+xml,application/xml;q=0.9,image/avif,image/webp,image/apng,*/*;q=0.8,application/signed-exchange;v=b3;q=0.9\" --header=\"Accept-Language: en-US,en;q=0.9\" --header=\"Cookie: AUTH_os3ftn4tgjvd1o3qu47r0sa1m0inhkii=06611803433127174159|1650294150000|lh2hqtu5gqn9co71hhmijlundalnogg1\" --header=\"Connection: keep-alive\" \"https://doc-04-ao-docs.googleusercontent.com/docs/securesc/kd8bgoddf9l2da66opbpq16cp4ioi5uj/sjovbud8pol2j611u4bdhnnuabdbnpku/1650294225000/06629147635963609455/06611803433127174159/1_KN7S8zfHdrkRjRYOEtBxBVq8JrGxPXD?e=download&ax=ACxEAsZX3KGAf0LVMARmPGpBPMVjr51YIj2SHzXjJoKUi951ElkXcom_3Nel73BjPeivhXScqZZPxoNQUXT__TuoTGmvcmS317TYQp7fH0aQnbXV4h0XwPR54Nkl4ExXoT6eCuQygm08IP_VONezyKAavfsE2EXKROybByWTUdZN2woUrEojnEvNA1ZwhfBOsPxUUO_NjHnJSg-L447jQVhoJQgQkDl6Py_apfmkXFY0zmPnX_sKsVpv4Eq8sBmnoPDcSgpHS7w01mfSz09P1-hLgyKHmO3IxIYh1C94_2MX5NTbmO1tOJajOGzyyr28fs43tfcyZJZ_ukQlIroP2LY054nHSv5rA7586TqHM67gZwXSfpVBwYScx9qpqgP-9v0M6yXuaVbV20gTgpWHhac2EKvBG6fMO01J9ROwzmfRDIuVCiXz6pAZNvTv7uLnks1-23f5G0ARdIu6r1cOr0t6y9JwG-pCQXohRUoUh25vcGv6P9SExuOokJD0HfFaxjeKQfMkvkc9ePEhj6TmZgtzG4MjlOVxWFCFsaxDZCLbmGTPRlVwR1kOQND4BTunFCsS7WWqurhWHdkxzJfunks948D9sw71rSe6_IwW14cNUiTM2-197etsi-5wm8oYdVgo549w2l4lmEDcn2ht3ML_ybh7_sfbgC0YZQemVY7og6H_AldG8fNRPcbsqUuwrGlrIQ_-Z6qZALHGExKiWlCx-uyCXDrOXpdmuzKDMRVP5niNmiFo50k&authuser=0\" -c -O 'test_after_eda.csv'"
      ],
      "metadata": {
        "colab": {
          "base_uri": "https://localhost:8080/"
        },
        "id": "F6loQGbHM0C2",
        "outputId": "08856103-12b6-4082-e803-70e7f229766f"
      },
      "execution_count": null,
      "outputs": [
        {
          "output_type": "stream",
          "name": "stdout",
          "text": [
            "--2022-04-18 15:04:04--  https://doc-04-ao-docs.googleusercontent.com/docs/securesc/kd8bgoddf9l2da66opbpq16cp4ioi5uj/sjovbud8pol2j611u4bdhnnuabdbnpku/1650294225000/06629147635963609455/06611803433127174159/1_KN7S8zfHdrkRjRYOEtBxBVq8JrGxPXD?e=download&ax=ACxEAsZX3KGAf0LVMARmPGpBPMVjr51YIj2SHzXjJoKUi951ElkXcom_3Nel73BjPeivhXScqZZPxoNQUXT__TuoTGmvcmS317TYQp7fH0aQnbXV4h0XwPR54Nkl4ExXoT6eCuQygm08IP_VONezyKAavfsE2EXKROybByWTUdZN2woUrEojnEvNA1ZwhfBOsPxUUO_NjHnJSg-L447jQVhoJQgQkDl6Py_apfmkXFY0zmPnX_sKsVpv4Eq8sBmnoPDcSgpHS7w01mfSz09P1-hLgyKHmO3IxIYh1C94_2MX5NTbmO1tOJajOGzyyr28fs43tfcyZJZ_ukQlIroP2LY054nHSv5rA7586TqHM67gZwXSfpVBwYScx9qpqgP-9v0M6yXuaVbV20gTgpWHhac2EKvBG6fMO01J9ROwzmfRDIuVCiXz6pAZNvTv7uLnks1-23f5G0ARdIu6r1cOr0t6y9JwG-pCQXohRUoUh25vcGv6P9SExuOokJD0HfFaxjeKQfMkvkc9ePEhj6TmZgtzG4MjlOVxWFCFsaxDZCLbmGTPRlVwR1kOQND4BTunFCsS7WWqurhWHdkxzJfunks948D9sw71rSe6_IwW14cNUiTM2-197etsi-5wm8oYdVgo549w2l4lmEDcn2ht3ML_ybh7_sfbgC0YZQemVY7og6H_AldG8fNRPcbsqUuwrGlrIQ_-Z6qZALHGExKiWlCx-uyCXDrOXpdmuzKDMRVP5niNmiFo50k&authuser=0\n",
            "Resolving doc-04-ao-docs.googleusercontent.com (doc-04-ao-docs.googleusercontent.com)... 173.194.216.132, 2607:f8b0:400c:c12::84\n",
            "Connecting to doc-04-ao-docs.googleusercontent.com (doc-04-ao-docs.googleusercontent.com)|173.194.216.132|:443... connected.\n",
            "HTTP request sent, awaiting response... 200 OK\n",
            "Length: 59666827 (57M) [text/csv]\n",
            "Saving to: ‘test_after_eda.csv’\n",
            "\n",
            "test_after_eda.csv  100%[===================>]  56.90M   145MB/s    in 0.4s    \n",
            "\n",
            "2022-04-18 15:04:05 (145 MB/s) - ‘test_after_eda.csv’ saved [59666827/59666827]\n",
            "\n"
          ]
        }
      ]
    },
    {
      "cell_type": "code",
      "source": [
        "df_final_test = pd.read_csv('test_after_eda.csv', skiprows=skip_train, names=['source_node', 'destination_node'])\n",
        "df_final_test['indicator_link'] = pd.read_csv('test_y.csv', skiprows=skip_train, names=['indicator_link'])\n",
        "print(\"Our train matrix size \",df_final_test.shape)\n",
        "df_final_test.head(2)"
      ],
      "metadata": {
        "colab": {
          "base_uri": "https://localhost:8080/",
          "height": 129
        },
        "id": "B3xScAUaMgjR",
        "outputId": "375139c3-fb4c-43fb-b3f6-414ccfe0d288"
      },
      "execution_count": null,
      "outputs": [
        {
          "output_type": "stream",
          "name": "stdout",
          "text": [
            "Our train matrix size  (24950, 3)\n"
          ]
        },
        {
          "output_type": "execute_result",
          "data": {
            "text/plain": [
              "   source_node  destination_node  indicator_link\n",
              "0       848424            784690               1\n",
              "1      1645357           1526467               1"
            ],
            "text/html": [
              "\n",
              "  <div id=\"df-158d12cf-df42-4311-a487-1880cd14887f\">\n",
              "    <div class=\"colab-df-container\">\n",
              "      <div>\n",
              "<style scoped>\n",
              "    .dataframe tbody tr th:only-of-type {\n",
              "        vertical-align: middle;\n",
              "    }\n",
              "\n",
              "    .dataframe tbody tr th {\n",
              "        vertical-align: top;\n",
              "    }\n",
              "\n",
              "    .dataframe thead th {\n",
              "        text-align: right;\n",
              "    }\n",
              "</style>\n",
              "<table border=\"1\" class=\"dataframe\">\n",
              "  <thead>\n",
              "    <tr style=\"text-align: right;\">\n",
              "      <th></th>\n",
              "      <th>source_node</th>\n",
              "      <th>destination_node</th>\n",
              "      <th>indicator_link</th>\n",
              "    </tr>\n",
              "  </thead>\n",
              "  <tbody>\n",
              "    <tr>\n",
              "      <th>0</th>\n",
              "      <td>848424</td>\n",
              "      <td>784690</td>\n",
              "      <td>1</td>\n",
              "    </tr>\n",
              "    <tr>\n",
              "      <th>1</th>\n",
              "      <td>1645357</td>\n",
              "      <td>1526467</td>\n",
              "      <td>1</td>\n",
              "    </tr>\n",
              "  </tbody>\n",
              "</table>\n",
              "</div>\n",
              "      <button class=\"colab-df-convert\" onclick=\"convertToInteractive('df-158d12cf-df42-4311-a487-1880cd14887f')\"\n",
              "              title=\"Convert this dataframe to an interactive table.\"\n",
              "              style=\"display:none;\">\n",
              "        \n",
              "  <svg xmlns=\"http://www.w3.org/2000/svg\" height=\"24px\"viewBox=\"0 0 24 24\"\n",
              "       width=\"24px\">\n",
              "    <path d=\"M0 0h24v24H0V0z\" fill=\"none\"/>\n",
              "    <path d=\"M18.56 5.44l.94 2.06.94-2.06 2.06-.94-2.06-.94-.94-2.06-.94 2.06-2.06.94zm-11 1L8.5 8.5l.94-2.06 2.06-.94-2.06-.94L8.5 2.5l-.94 2.06-2.06.94zm10 10l.94 2.06.94-2.06 2.06-.94-2.06-.94-.94-2.06-.94 2.06-2.06.94z\"/><path d=\"M17.41 7.96l-1.37-1.37c-.4-.4-.92-.59-1.43-.59-.52 0-1.04.2-1.43.59L10.3 9.45l-7.72 7.72c-.78.78-.78 2.05 0 2.83L4 21.41c.39.39.9.59 1.41.59.51 0 1.02-.2 1.41-.59l7.78-7.78 2.81-2.81c.8-.78.8-2.07 0-2.86zM5.41 20L4 18.59l7.72-7.72 1.47 1.35L5.41 20z\"/>\n",
              "  </svg>\n",
              "      </button>\n",
              "      \n",
              "  <style>\n",
              "    .colab-df-container {\n",
              "      display:flex;\n",
              "      flex-wrap:wrap;\n",
              "      gap: 12px;\n",
              "    }\n",
              "\n",
              "    .colab-df-convert {\n",
              "      background-color: #E8F0FE;\n",
              "      border: none;\n",
              "      border-radius: 50%;\n",
              "      cursor: pointer;\n",
              "      display: none;\n",
              "      fill: #1967D2;\n",
              "      height: 32px;\n",
              "      padding: 0 0 0 0;\n",
              "      width: 32px;\n",
              "    }\n",
              "\n",
              "    .colab-df-convert:hover {\n",
              "      background-color: #E2EBFA;\n",
              "      box-shadow: 0px 1px 2px rgba(60, 64, 67, 0.3), 0px 1px 3px 1px rgba(60, 64, 67, 0.15);\n",
              "      fill: #174EA6;\n",
              "    }\n",
              "\n",
              "    [theme=dark] .colab-df-convert {\n",
              "      background-color: #3B4455;\n",
              "      fill: #D2E3FC;\n",
              "    }\n",
              "\n",
              "    [theme=dark] .colab-df-convert:hover {\n",
              "      background-color: #434B5C;\n",
              "      box-shadow: 0px 1px 3px 1px rgba(0, 0, 0, 0.15);\n",
              "      filter: drop-shadow(0px 1px 2px rgba(0, 0, 0, 0.3));\n",
              "      fill: #FFFFFF;\n",
              "    }\n",
              "  </style>\n",
              "\n",
              "      <script>\n",
              "        const buttonEl =\n",
              "          document.querySelector('#df-158d12cf-df42-4311-a487-1880cd14887f button.colab-df-convert');\n",
              "        buttonEl.style.display =\n",
              "          google.colab.kernel.accessAllowed ? 'block' : 'none';\n",
              "\n",
              "        async function convertToInteractive(key) {\n",
              "          const element = document.querySelector('#df-158d12cf-df42-4311-a487-1880cd14887f');\n",
              "          const dataTable =\n",
              "            await google.colab.kernel.invokeFunction('convertToInteractive',\n",
              "                                                     [key], {});\n",
              "          if (!dataTable) return;\n",
              "\n",
              "          const docLinkHtml = 'Like what you see? Visit the ' +\n",
              "            '<a target=\"_blank\" href=https://colab.research.google.com/notebooks/data_table.ipynb>data table notebook</a>'\n",
              "            + ' to learn more about interactive tables.';\n",
              "          element.innerHTML = '';\n",
              "          dataTable['output_type'] = 'display_data';\n",
              "          await google.colab.output.renderOutput(dataTable, element);\n",
              "          const docLink = document.createElement('div');\n",
              "          docLink.innerHTML = docLinkHtml;\n",
              "          element.appendChild(docLink);\n",
              "        }\n",
              "      </script>\n",
              "    </div>\n",
              "  </div>\n",
              "  "
            ]
          },
          "metadata": {},
          "execution_count": 57
        }
      ]
    },
    {
      "cell_type": "markdown",
      "metadata": {
        "id": "gIaOWDaDVFIJ"
      },
      "source": [
        "## 5.2 Adding a set of features\n",
        "\n",
        "__we will create these each of these features for both train and test data points__\n",
        "<ol>\n",
        "<li>jaccard_followers</li>\n",
        "<li>jaccard_followees</li>\n",
        "<li>cosine_followers</li>\n",
        "<li>cosine_followees</li>\n",
        "<li>num_followers_s</li>\n",
        "<li>num_followees_s</li>\n",
        "<li>num_followers_d</li>\n",
        "<li>num_followees_d</li>\n",
        "<li>inter_followers</li>\n",
        "<li>inter_followees</li>\n",
        "</ol>"
      ]
    },
    {
      "cell_type": "code",
      "metadata": {
        "id": "fz2eZpSnVFIL"
      },
      "source": [
        "def compute_features_stage1(df_final):\n",
        "    #calculating no of followers followees for source and destination\n",
        "    #calculating intersection of followers and followees for source and destination\n",
        "    num_followers_s=[]\n",
        "    num_followees_s=[]\n",
        "    num_followers_d=[]\n",
        "    num_followees_d=[]\n",
        "    inter_followers=[]\n",
        "    inter_followees=[]\n",
        "    jaccard_followers=[]\n",
        "    jaccard_followees=[]\n",
        "    cosine_followers=[]\n",
        "    cosine_followees=[]\n",
        "    for i,row in df_final.iterrows():#https://www.codegrepper.com/code-examples/python/frameworks/file-path-in-python/for+index+row+in+df.iterrows%28%29\n",
        "        try:\n",
        "            s1=set(train_graph.predecessors(row['source_node']))\n",
        "            s2=set(train_graph.successors(row['source_node']))\n",
        "        except:\n",
        "            s1 = set()\n",
        "            s2 = set()\n",
        "        try:\n",
        "            d1=set(train_graph.predecessors(row['destination_node']))\n",
        "            d2=set(train_graph.successors(row['destination_node']))\n",
        "        except:\n",
        "            d1 = set()\n",
        "            d2 = set()\n",
        "\n",
        "        jaccard_followers.append(jaccard_for_followers(row['source_node'],row['destination_node']))\n",
        "        jaccard_followees.append(jaccard_for_followees(row['source_node'],row['destination_node']))\n",
        "        cosine_followers.append(cosine_for_followers(row['source_node'],row['destination_node']))\n",
        "        cosine_followees.append(cosine_for_followees(row['source_node'],row['destination_node']))\n",
        "        num_followers_s.append(len(s1))\n",
        "        num_followees_s.append(len(s2))\n",
        "\n",
        "        num_followers_d.append(len(d1))\n",
        "        num_followees_d.append(len(d2))\n",
        "\n",
        "        inter_followers.append(len(s1.intersection(d1)))\n",
        "        inter_followees.append(len(s2.intersection(d2)))\n",
        "    \n",
        "    return  num_followers_s,num_followees_s,num_followers_d,num_followees_d,inter_followers,inter_followees,jaccard_followers,jaccard_followees,cosine_followers,cosine_followees"
      ],
      "execution_count": null,
      "outputs": []
    },
    {
      "cell_type": "code",
      "source": [
        "if not os.path.isfile('data/fea_sample/storage_sample_stage1.h5'):\n",
        "    df_final_train['num_followers_s'], df_final_train['num_followers_d'], \\\n",
        "    df_final_train['num_followees_s'], df_final_train['num_followees_d'], \\\n",
        "    df_final_train['inter_followers'], df_final_train['inter_followees'],\\\n",
        "    df_final_train['jaccard_followers'], df_final_train['jaccard_followees'],\\\n",
        "    df_final_train['cosine_followers'], df_final_train['cosine_followees']= compute_features_stage1(df_final_train)\n",
        "    \n",
        "    df_final_test['num_followers_s'], df_final_test['num_followers_d'], \\\n",
        "    df_final_test['num_followees_s'], df_final_test['num_followees_d'], \\\n",
        "    df_final_test['inter_followers'], df_final_test['inter_followees'],\\\n",
        "    df_final_test['jaccard_followers'], df_final_test['jaccard_followees'],\\\n",
        "    df_final_test['cosine_followers'], df_final_test['cosine_followees']= compute_features_stage1(df_final_test)\n",
        "\n",
        "    \n",
        "    hdf = HDFStore('storage_sample_stage1.h5')\n",
        "    hdf.put('train_df',df_final_train, format='table', data_columns=True)\n",
        "    hdf.put('test_df',df_final_test, format='table', data_columns=True)\n",
        "    hdf.close()\n",
        "else:\n",
        "    df_final_train = read_hdf('storage_sample_stage1.h5', 'train_df',mode='r')\n",
        "    df_final_test = read_hdf('storage_sample_stage1.h5', 'test_df',mode='r')"
      ],
      "metadata": {
        "id": "0sOCqbcCQqZs"
      },
      "execution_count": null,
      "outputs": []
    },
    {
      "cell_type": "code",
      "source": [
        "df_final_train.head(2)"
      ],
      "metadata": {
        "colab": {
          "base_uri": "https://localhost:8080/",
          "height": 176
        },
        "id": "7_1-S8zMRIKs",
        "outputId": "182dcd52-d7f9-4604-ca9d-3b36a1713881"
      },
      "execution_count": null,
      "outputs": [
        {
          "output_type": "execute_result",
          "data": {
            "text/plain": [
              "   source_node  destination_node  indicator_link  num_followers_s  \\\n",
              "0       273084           1505602               1               11   \n",
              "1      1722833            544361               1                4   \n",
              "\n",
              "   num_followers_d  num_followees_s  num_followees_d  inter_followers  \\\n",
              "0               15                6                8                0   \n",
              "1                4                4                2                1   \n",
              "\n",
              "   inter_followees  jaccard_followers  jaccard_followees  cosine_followers  \\\n",
              "0                0                  0                0.0             0.000   \n",
              "1                1                  0                0.2             0.125   \n",
              "\n",
              "   cosine_followees  \n",
              "0          0.000000  \n",
              "1          0.353553  "
            ],
            "text/html": [
              "\n",
              "  <div id=\"df-92baf24b-af7a-46d1-b602-cc9eaf1cf01c\">\n",
              "    <div class=\"colab-df-container\">\n",
              "      <div>\n",
              "<style scoped>\n",
              "    .dataframe tbody tr th:only-of-type {\n",
              "        vertical-align: middle;\n",
              "    }\n",
              "\n",
              "    .dataframe tbody tr th {\n",
              "        vertical-align: top;\n",
              "    }\n",
              "\n",
              "    .dataframe thead th {\n",
              "        text-align: right;\n",
              "    }\n",
              "</style>\n",
              "<table border=\"1\" class=\"dataframe\">\n",
              "  <thead>\n",
              "    <tr style=\"text-align: right;\">\n",
              "      <th></th>\n",
              "      <th>source_node</th>\n",
              "      <th>destination_node</th>\n",
              "      <th>indicator_link</th>\n",
              "      <th>num_followers_s</th>\n",
              "      <th>num_followers_d</th>\n",
              "      <th>num_followees_s</th>\n",
              "      <th>num_followees_d</th>\n",
              "      <th>inter_followers</th>\n",
              "      <th>inter_followees</th>\n",
              "      <th>jaccard_followers</th>\n",
              "      <th>jaccard_followees</th>\n",
              "      <th>cosine_followers</th>\n",
              "      <th>cosine_followees</th>\n",
              "    </tr>\n",
              "  </thead>\n",
              "  <tbody>\n",
              "    <tr>\n",
              "      <th>0</th>\n",
              "      <td>273084</td>\n",
              "      <td>1505602</td>\n",
              "      <td>1</td>\n",
              "      <td>11</td>\n",
              "      <td>15</td>\n",
              "      <td>6</td>\n",
              "      <td>8</td>\n",
              "      <td>0</td>\n",
              "      <td>0</td>\n",
              "      <td>0</td>\n",
              "      <td>0.0</td>\n",
              "      <td>0.000</td>\n",
              "      <td>0.000000</td>\n",
              "    </tr>\n",
              "    <tr>\n",
              "      <th>1</th>\n",
              "      <td>1722833</td>\n",
              "      <td>544361</td>\n",
              "      <td>1</td>\n",
              "      <td>4</td>\n",
              "      <td>4</td>\n",
              "      <td>4</td>\n",
              "      <td>2</td>\n",
              "      <td>1</td>\n",
              "      <td>1</td>\n",
              "      <td>0</td>\n",
              "      <td>0.2</td>\n",
              "      <td>0.125</td>\n",
              "      <td>0.353553</td>\n",
              "    </tr>\n",
              "  </tbody>\n",
              "</table>\n",
              "</div>\n",
              "      <button class=\"colab-df-convert\" onclick=\"convertToInteractive('df-92baf24b-af7a-46d1-b602-cc9eaf1cf01c')\"\n",
              "              title=\"Convert this dataframe to an interactive table.\"\n",
              "              style=\"display:none;\">\n",
              "        \n",
              "  <svg xmlns=\"http://www.w3.org/2000/svg\" height=\"24px\"viewBox=\"0 0 24 24\"\n",
              "       width=\"24px\">\n",
              "    <path d=\"M0 0h24v24H0V0z\" fill=\"none\"/>\n",
              "    <path d=\"M18.56 5.44l.94 2.06.94-2.06 2.06-.94-2.06-.94-.94-2.06-.94 2.06-2.06.94zm-11 1L8.5 8.5l.94-2.06 2.06-.94-2.06-.94L8.5 2.5l-.94 2.06-2.06.94zm10 10l.94 2.06.94-2.06 2.06-.94-2.06-.94-.94-2.06-.94 2.06-2.06.94z\"/><path d=\"M17.41 7.96l-1.37-1.37c-.4-.4-.92-.59-1.43-.59-.52 0-1.04.2-1.43.59L10.3 9.45l-7.72 7.72c-.78.78-.78 2.05 0 2.83L4 21.41c.39.39.9.59 1.41.59.51 0 1.02-.2 1.41-.59l7.78-7.78 2.81-2.81c.8-.78.8-2.07 0-2.86zM5.41 20L4 18.59l7.72-7.72 1.47 1.35L5.41 20z\"/>\n",
              "  </svg>\n",
              "      </button>\n",
              "      \n",
              "  <style>\n",
              "    .colab-df-container {\n",
              "      display:flex;\n",
              "      flex-wrap:wrap;\n",
              "      gap: 12px;\n",
              "    }\n",
              "\n",
              "    .colab-df-convert {\n",
              "      background-color: #E8F0FE;\n",
              "      border: none;\n",
              "      border-radius: 50%;\n",
              "      cursor: pointer;\n",
              "      display: none;\n",
              "      fill: #1967D2;\n",
              "      height: 32px;\n",
              "      padding: 0 0 0 0;\n",
              "      width: 32px;\n",
              "    }\n",
              "\n",
              "    .colab-df-convert:hover {\n",
              "      background-color: #E2EBFA;\n",
              "      box-shadow: 0px 1px 2px rgba(60, 64, 67, 0.3), 0px 1px 3px 1px rgba(60, 64, 67, 0.15);\n",
              "      fill: #174EA6;\n",
              "    }\n",
              "\n",
              "    [theme=dark] .colab-df-convert {\n",
              "      background-color: #3B4455;\n",
              "      fill: #D2E3FC;\n",
              "    }\n",
              "\n",
              "    [theme=dark] .colab-df-convert:hover {\n",
              "      background-color: #434B5C;\n",
              "      box-shadow: 0px 1px 3px 1px rgba(0, 0, 0, 0.15);\n",
              "      filter: drop-shadow(0px 1px 2px rgba(0, 0, 0, 0.3));\n",
              "      fill: #FFFFFF;\n",
              "    }\n",
              "  </style>\n",
              "\n",
              "      <script>\n",
              "        const buttonEl =\n",
              "          document.querySelector('#df-92baf24b-af7a-46d1-b602-cc9eaf1cf01c button.colab-df-convert');\n",
              "        buttonEl.style.display =\n",
              "          google.colab.kernel.accessAllowed ? 'block' : 'none';\n",
              "\n",
              "        async function convertToInteractive(key) {\n",
              "          const element = document.querySelector('#df-92baf24b-af7a-46d1-b602-cc9eaf1cf01c');\n",
              "          const dataTable =\n",
              "            await google.colab.kernel.invokeFunction('convertToInteractive',\n",
              "                                                     [key], {});\n",
              "          if (!dataTable) return;\n",
              "\n",
              "          const docLinkHtml = 'Like what you see? Visit the ' +\n",
              "            '<a target=\"_blank\" href=https://colab.research.google.com/notebooks/data_table.ipynb>data table notebook</a>'\n",
              "            + ' to learn more about interactive tables.';\n",
              "          element.innerHTML = '';\n",
              "          dataTable['output_type'] = 'display_data';\n",
              "          await google.colab.output.renderOutput(dataTable, element);\n",
              "          const docLink = document.createElement('div');\n",
              "          docLink.innerHTML = docLinkHtml;\n",
              "          element.appendChild(docLink);\n",
              "        }\n",
              "      </script>\n",
              "    </div>\n",
              "  </div>\n",
              "  "
            ]
          },
          "metadata": {},
          "execution_count": 69
        }
      ]
    },
    {
      "cell_type": "markdown",
      "metadata": {
        "id": "go_e8hxxVFIO"
      },
      "source": [
        "\n",
        "## 5.3 Adding new set of features\n",
        "\n",
        "__we will create these each of these features for both train and test data points__\n",
        "<ol>\n",
        "<li>adar index</li>\n",
        "<li>is following back</li>\n",
        "<li>belongs to same weakly connect components</li>\n",
        "<li>shortest path between source and destination</li>\n",
        "</ol>"
      ]
    },
    {
      "cell_type": "code",
      "source": [
        "if not os.path.isfile('storage_sample_stage2.h5'):\n",
        "\n",
        "#Adar Index\n",
        "    df_final_train['adar_index'] = df_final_train.apply(lambda row: calc_adar_in(row['source_node'],row['destination_node']),axis=1)\n",
        "    df_final_test['adar_index'] = df_final_test.apply(lambda row: calc_adar_in(row['source_node'],row['destination_node']),axis=1)\n",
        "\n",
        "#Is following back\n",
        "\n",
        "    df_final_train['follows_back'] = df_final_train.apply(lambda row: follows_back(row['source_node'],row['destination_node']),axis=1)\n",
        "    df_final_test['follows_back'] = df_final_test.apply(lambda row: follows_back(row['source_node'],row['destination_node']),axis=1)\n",
        "\n",
        "#Belongs to wcc\n",
        "\n",
        "    df_final_train['belongs_wcc'] = df_final_train.apply(lambda row: belongs_to_same_wcc(row['source_node'],row['destination_node']),axis=1)\n",
        "    df_final_test['belongs_wcc'] = df_final_test.apply(lambda row: belongs_to_same_wcc(row['source_node'],row['destination_node']),axis=1)\n",
        "\n",
        "#Shortest path\n",
        "\n",
        "    df_final_train['shortest_path'] = df_final_train.apply(lambda row: compute_shortest_path_length(row['source_node'],row['destination_node']),axis=1)\n",
        "    df_final_test['shortest_path'] = df_final_test.apply(lambda row: compute_shortest_path_length(row['source_node'],row['destination_node']),axis=1)\n",
        "\n",
        "    hdf = HDFStore('data/fea_sample/storage_sample_stage2.h5')\n",
        "    hdf.put('train_df',df_final_train, format='table', data_columns=True)\n",
        "    hdf.put('test_df',df_final_test, format='table', data_columns=True)\n",
        "    hdf.close()\n",
        "else:\n",
        "    df_final_train = read_hdf('storage_sample_stage2.h5', 'train_df',mode='r')\n",
        "    df_final_test = read_hdf('storage_sample_stage2.h5', 'test_df',mode='r')"
      ],
      "metadata": {
        "id": "YwHs8TEDWxn6"
      },
      "execution_count": null,
      "outputs": []
    },
    {
      "cell_type": "code",
      "source": [
        "df_final_train.head(2)"
      ],
      "metadata": {
        "colab": {
          "base_uri": "https://localhost:8080/",
          "height": 176
        },
        "id": "aRhesVdWsASO",
        "outputId": "e5c9db7e-f078-4e81-b128-6eef02cee83a"
      },
      "execution_count": null,
      "outputs": [
        {
          "output_type": "execute_result",
          "data": {
            "text/plain": [
              "   source_node  destination_node  indicator_link  num_followers_s  \\\n",
              "0       273084           1505602               1               11   \n",
              "1      1722833            544361               1                4   \n",
              "\n",
              "   num_followers_d  num_followees_s  num_followees_d  inter_followers  \\\n",
              "0               15                6                8                0   \n",
              "1                4                4                2                1   \n",
              "\n",
              "   inter_followees  jaccard_followers  jaccard_followees  cosine_followers  \\\n",
              "0                0                  0                0.0             0.000   \n",
              "1                1                  0                0.2             0.125   \n",
              "\n",
              "   cosine_followees  adar_index  follows_back  belongs_wcc  shortest_path  \n",
              "0          0.000000    0.000000             0            1              4  \n",
              "1          0.353553    1.107309             1            1              2  "
            ],
            "text/html": [
              "\n",
              "  <div id=\"df-db929107-78e0-4d7d-b15d-8ca6b9fea2c3\">\n",
              "    <div class=\"colab-df-container\">\n",
              "      <div>\n",
              "<style scoped>\n",
              "    .dataframe tbody tr th:only-of-type {\n",
              "        vertical-align: middle;\n",
              "    }\n",
              "\n",
              "    .dataframe tbody tr th {\n",
              "        vertical-align: top;\n",
              "    }\n",
              "\n",
              "    .dataframe thead th {\n",
              "        text-align: right;\n",
              "    }\n",
              "</style>\n",
              "<table border=\"1\" class=\"dataframe\">\n",
              "  <thead>\n",
              "    <tr style=\"text-align: right;\">\n",
              "      <th></th>\n",
              "      <th>source_node</th>\n",
              "      <th>destination_node</th>\n",
              "      <th>indicator_link</th>\n",
              "      <th>num_followers_s</th>\n",
              "      <th>num_followers_d</th>\n",
              "      <th>num_followees_s</th>\n",
              "      <th>num_followees_d</th>\n",
              "      <th>inter_followers</th>\n",
              "      <th>inter_followees</th>\n",
              "      <th>jaccard_followers</th>\n",
              "      <th>jaccard_followees</th>\n",
              "      <th>cosine_followers</th>\n",
              "      <th>cosine_followees</th>\n",
              "      <th>adar_index</th>\n",
              "      <th>follows_back</th>\n",
              "      <th>belongs_wcc</th>\n",
              "      <th>shortest_path</th>\n",
              "    </tr>\n",
              "  </thead>\n",
              "  <tbody>\n",
              "    <tr>\n",
              "      <th>0</th>\n",
              "      <td>273084</td>\n",
              "      <td>1505602</td>\n",
              "      <td>1</td>\n",
              "      <td>11</td>\n",
              "      <td>15</td>\n",
              "      <td>6</td>\n",
              "      <td>8</td>\n",
              "      <td>0</td>\n",
              "      <td>0</td>\n",
              "      <td>0</td>\n",
              "      <td>0.0</td>\n",
              "      <td>0.000</td>\n",
              "      <td>0.000000</td>\n",
              "      <td>0.000000</td>\n",
              "      <td>0</td>\n",
              "      <td>1</td>\n",
              "      <td>4</td>\n",
              "    </tr>\n",
              "    <tr>\n",
              "      <th>1</th>\n",
              "      <td>1722833</td>\n",
              "      <td>544361</td>\n",
              "      <td>1</td>\n",
              "      <td>4</td>\n",
              "      <td>4</td>\n",
              "      <td>4</td>\n",
              "      <td>2</td>\n",
              "      <td>1</td>\n",
              "      <td>1</td>\n",
              "      <td>0</td>\n",
              "      <td>0.2</td>\n",
              "      <td>0.125</td>\n",
              "      <td>0.353553</td>\n",
              "      <td>1.107309</td>\n",
              "      <td>1</td>\n",
              "      <td>1</td>\n",
              "      <td>2</td>\n",
              "    </tr>\n",
              "  </tbody>\n",
              "</table>\n",
              "</div>\n",
              "      <button class=\"colab-df-convert\" onclick=\"convertToInteractive('df-db929107-78e0-4d7d-b15d-8ca6b9fea2c3')\"\n",
              "              title=\"Convert this dataframe to an interactive table.\"\n",
              "              style=\"display:none;\">\n",
              "        \n",
              "  <svg xmlns=\"http://www.w3.org/2000/svg\" height=\"24px\"viewBox=\"0 0 24 24\"\n",
              "       width=\"24px\">\n",
              "    <path d=\"M0 0h24v24H0V0z\" fill=\"none\"/>\n",
              "    <path d=\"M18.56 5.44l.94 2.06.94-2.06 2.06-.94-2.06-.94-.94-2.06-.94 2.06-2.06.94zm-11 1L8.5 8.5l.94-2.06 2.06-.94-2.06-.94L8.5 2.5l-.94 2.06-2.06.94zm10 10l.94 2.06.94-2.06 2.06-.94-2.06-.94-.94-2.06-.94 2.06-2.06.94z\"/><path d=\"M17.41 7.96l-1.37-1.37c-.4-.4-.92-.59-1.43-.59-.52 0-1.04.2-1.43.59L10.3 9.45l-7.72 7.72c-.78.78-.78 2.05 0 2.83L4 21.41c.39.39.9.59 1.41.59.51 0 1.02-.2 1.41-.59l7.78-7.78 2.81-2.81c.8-.78.8-2.07 0-2.86zM5.41 20L4 18.59l7.72-7.72 1.47 1.35L5.41 20z\"/>\n",
              "  </svg>\n",
              "      </button>\n",
              "      \n",
              "  <style>\n",
              "    .colab-df-container {\n",
              "      display:flex;\n",
              "      flex-wrap:wrap;\n",
              "      gap: 12px;\n",
              "    }\n",
              "\n",
              "    .colab-df-convert {\n",
              "      background-color: #E8F0FE;\n",
              "      border: none;\n",
              "      border-radius: 50%;\n",
              "      cursor: pointer;\n",
              "      display: none;\n",
              "      fill: #1967D2;\n",
              "      height: 32px;\n",
              "      padding: 0 0 0 0;\n",
              "      width: 32px;\n",
              "    }\n",
              "\n",
              "    .colab-df-convert:hover {\n",
              "      background-color: #E2EBFA;\n",
              "      box-shadow: 0px 1px 2px rgba(60, 64, 67, 0.3), 0px 1px 3px 1px rgba(60, 64, 67, 0.15);\n",
              "      fill: #174EA6;\n",
              "    }\n",
              "\n",
              "    [theme=dark] .colab-df-convert {\n",
              "      background-color: #3B4455;\n",
              "      fill: #D2E3FC;\n",
              "    }\n",
              "\n",
              "    [theme=dark] .colab-df-convert:hover {\n",
              "      background-color: #434B5C;\n",
              "      box-shadow: 0px 1px 3px 1px rgba(0, 0, 0, 0.15);\n",
              "      filter: drop-shadow(0px 1px 2px rgba(0, 0, 0, 0.3));\n",
              "      fill: #FFFFFF;\n",
              "    }\n",
              "  </style>\n",
              "\n",
              "      <script>\n",
              "        const buttonEl =\n",
              "          document.querySelector('#df-db929107-78e0-4d7d-b15d-8ca6b9fea2c3 button.colab-df-convert');\n",
              "        buttonEl.style.display =\n",
              "          google.colab.kernel.accessAllowed ? 'block' : 'none';\n",
              "\n",
              "        async function convertToInteractive(key) {\n",
              "          const element = document.querySelector('#df-db929107-78e0-4d7d-b15d-8ca6b9fea2c3');\n",
              "          const dataTable =\n",
              "            await google.colab.kernel.invokeFunction('convertToInteractive',\n",
              "                                                     [key], {});\n",
              "          if (!dataTable) return;\n",
              "\n",
              "          const docLinkHtml = 'Like what you see? Visit the ' +\n",
              "            '<a target=\"_blank\" href=https://colab.research.google.com/notebooks/data_table.ipynb>data table notebook</a>'\n",
              "            + ' to learn more about interactive tables.';\n",
              "          element.innerHTML = '';\n",
              "          dataTable['output_type'] = 'display_data';\n",
              "          await google.colab.output.renderOutput(dataTable, element);\n",
              "          const docLink = document.createElement('div');\n",
              "          docLink.innerHTML = docLinkHtml;\n",
              "          element.appendChild(docLink);\n",
              "        }\n",
              "      </script>\n",
              "    </div>\n",
              "  </div>\n",
              "  "
            ]
          },
          "metadata": {},
          "execution_count": 76
        }
      ]
    },
    {
      "cell_type": "markdown",
      "metadata": {
        "id": "HJ8Dbma_VFIR"
      },
      "source": [
        "## 5.4 Adding new set of features\n",
        "\n",
        "__we will create these each of these features for both train and test data points__\n",
        "<ol>\n",
        "<li>Weight Features\n",
        "    <ul>\n",
        "        <li>weight of incoming edges</li>\n",
        "        <li>weight of outgoing edges</li>\n",
        "        <li>weight of incoming edges + weight of outgoing edges</li>\n",
        "        <li>weight of incoming edges * weight of outgoing edges</li>\n",
        "        <li>2*weight of incoming edges + weight of outgoing edges</li>\n",
        "        <li>weight of incoming edges + 2*weight of outgoing edges</li>\n",
        "    </ul>\n",
        "</li>\n",
        "<li>Page Ranking of source</li>\n",
        "<li>Page Ranking of dest</li>\n",
        "<li>katz of source</li>\n",
        "<li>katz of dest</li>\n",
        "<li>hubs of source</li>\n",
        "<li>hubs of dest</li>\n",
        "<li>authorities_s of source</li>\n",
        "<li>authorities_s of dest</li>\n",
        "</ol>"
      ]
    },
    {
      "cell_type": "markdown",
      "metadata": {
        "id": "iVHI2jtNVFIS"
      },
      "source": [
        "#### Weight Features"
      ]
    },
    {
      "cell_type": "markdown",
      "metadata": {
        "id": "rXmUYF9FVFIT"
      },
      "source": [
        "In order to determine the similarity of nodes, an edge weight value was calculated between nodes. Edge weight decreases as the neighbor count goes up. Intuitively, consider one million people following a celebrity on a social network then chances are most of them never met each other or the celebrity. On the other hand, if a user has 30 contacts in his/her social network, the chances are higher that many of them know each other. \n",
        "`credit` - Graph-based Features for Supervised Link Prediction\n",
        "William Cukierski, Benjamin Hamner, Bo Yang"
      ]
    },
    {
      "cell_type": "markdown",
      "metadata": {
        "id": "Qzbs2no7VFIV"
      },
      "source": [
        "\\begin{equation}\n",
        "W = \\frac{1}{\\sqrt{1+|X|}}\n",
        "\\end{equation}"
      ]
    },
    {
      "cell_type": "markdown",
      "metadata": {
        "id": "kkzUPrWaVFIV"
      },
      "source": [
        "it is directed graph so calculated Weighted in and Weighted out differently"
      ]
    },
    {
      "cell_type": "code",
      "metadata": {
        "id": "FgNMzzTbVFIW",
        "outputId": "e91b242a-b1b0-419b-edb8-2e0e346d9e05",
        "colab": {
          "base_uri": "https://localhost:8080/"
        }
      },
      "source": [
        "#weight for source and destination of each link\n",
        "Weight_in = {}\n",
        "Weight_out = {}\n",
        "for i in  tqdm(train_graph.nodes()):\n",
        "    s1=set(train_graph.predecessors(i))\n",
        "    w_in = 1.0/(np.sqrt(1+len(s1)))\n",
        "    Weight_in[i]=w_in\n",
        "    \n",
        "    s2=set(train_graph.successors(i))\n",
        "    w_out = 1.0/(np.sqrt(1+len(s2)))\n",
        "    Weight_out[i]=w_out\n",
        "    \n",
        "#for imputing with mean\n",
        "mean_weight_in = np.mean(list(Weight_in.values()))\n",
        "mean_weight_out = np.mean(list(Weight_out.values()))"
      ],
      "execution_count": null,
      "outputs": [
        {
          "output_type": "stream",
          "name": "stderr",
          "text": [
            "100%|██████████| 1780722/1780722 [00:19<00:00, 90554.31it/s] \n"
          ]
        }
      ]
    },
    {
      "cell_type": "code",
      "metadata": {
        "id": "AF4yPhIOVFIY"
      },
      "source": [
        "if not os.path.isfile('data/fea_sample/storage_sample_stage3.h5'):\n",
        "    #mapping to pandas train\n",
        "    df_final_train['weight_in'] = df_final_train.destination_node.apply(lambda x: Weight_in.get(x,mean_weight_in))\n",
        "    df_final_train['weight_out'] = df_final_train.source_node.apply(lambda x: Weight_out.get(x,mean_weight_out))\n",
        "\n",
        "    #mapping to pandas test\n",
        "    df_final_test['weight_in'] = df_final_test.destination_node.apply(lambda x: Weight_in.get(x,mean_weight_in))\n",
        "    df_final_test['weight_out'] = df_final_test.source_node.apply(lambda x: Weight_out.get(x,mean_weight_out))\n",
        "\n",
        "\n",
        "    #some features engineerings on the in and out weights\n",
        "    df_final_train['weight_f1'] = df_final_train.weight_in + df_final_train.weight_out\n",
        "    df_final_train['weight_f2'] = df_final_train.weight_in * df_final_train.weight_out\n",
        "    df_final_train['weight_f3'] = (2*df_final_train.weight_in + 1*df_final_train.weight_out)\n",
        "    df_final_train['weight_f4'] = (1*df_final_train.weight_in + 2*df_final_train.weight_out)\n",
        "\n",
        "    #some features engineerings on the in and out weights\n",
        "    df_final_test['weight_f1'] = df_final_test.weight_in + df_final_test.weight_out\n",
        "    df_final_test['weight_f2'] = df_final_test.weight_in * df_final_test.weight_out\n",
        "    df_final_test['weight_f3'] = (2*df_final_test.weight_in + 1*df_final_test.weight_out)\n",
        "    df_final_test['weight_f4'] = (1*df_final_test.weight_in + 2*df_final_test.weight_out)"
      ],
      "execution_count": null,
      "outputs": []
    },
    {
      "cell_type": "code",
      "metadata": {
        "id": "uhxzhQ9aVFIa",
        "colab": {
          "base_uri": "https://localhost:8080/",
          "height": 380
        },
        "outputId": "b8faee92-d409-4572-fd34-be963c0ae50e"
      },
      "source": [
        "if not os.path.isfile('data/fea_sample/storage_sample_stage3.h5'):\n",
        "    \n",
        "    #page rank for source and destination in Train and Test\n",
        "    #if anything not there in train graph then adding mean page rank \n",
        "    df_final_train['page_rank_s'] = df_final_train.source_node.apply(lambda x:pr.get(x,mean_pr))\n",
        "    df_final_train['page_rank_d'] = df_final_train.destination_node.apply(lambda x:pr.get(x,mean_pr))\n",
        "\n",
        "    df_final_test['page_rank_s'] = df_final_test.source_node.apply(lambda x:pr.get(x,mean_pr))\n",
        "    df_final_test['page_rank_d'] = df_final_test.destination_node.apply(lambda x:pr.get(x,mean_pr))\n",
        "    #================================================================================\n",
        "\n",
        "    #Katz centrality score for source and destination in Train and test\n",
        "    #if anything not there in train graph then adding mean katz score\n",
        "    df_final_train['katz_s'] = df_final_train.source_node.apply(lambda x: katz.get(x,mean_katz))\n",
        "    df_final_train['katz_d'] = df_final_train.destination_node.apply(lambda x: katz.get(x,mean_katz))\n",
        "\n",
        "    df_final_test['katz_s'] = df_final_test.source_node.apply(lambda x: katz.get(x,mean_katz))\n",
        "    df_final_test['katz_d'] = df_final_test.destination_node.apply(lambda x: katz.get(x,mean_katz))\n",
        "    #================================================================================\n",
        "\n",
        "    #Hits algorithm score for source and destination in Train and test\n",
        "    #if anything not there in train graph then adding 0\n",
        "    df_final_train['hubs_s'] = df_final_train.source_node.apply(lambda x: hits[0].get(x,0))\n",
        "    df_final_train['hubs_d'] = df_final_train.destination_node.apply(lambda x: hits[0].get(x,0))\n",
        "\n",
        "    df_final_test['hubs_s'] = df_final_test.source_node.apply(lambda x: hits[0].get(x,0))\n",
        "    df_final_test['hubs_d'] = df_final_test.destination_node.apply(lambda x: hits[0].get(x,0))\n",
        "    #================================================================================\n",
        "\n",
        "    #Hits algorithm score for source and destination in Train and Test\n",
        "    #if anything not there in train graph then adding 0\n",
        "    df_final_train['authorities_s'] = df_final_train.source_node.apply(lambda x: hits[1].get(x,0))\n",
        "    df_final_train['authorities_d'] = df_final_train.destination_node.apply(lambda x: hits[1].get(x,0))\n",
        "\n",
        "    df_final_test['authorities_s'] = df_final_test.source_node.apply(lambda x: hits[1].get(x,0))\n",
        "    df_final_test['authorities_d'] = df_final_test.destination_node.apply(lambda x: hits[1].get(x,0))\n",
        "    #================================================================================\n",
        "\n",
        "    hdf = HDFStore('data/fea_sample/storage_sample_stage3.h5')\n",
        "    hdf.put('train_df',df_final_train, format='table', data_columns=True)\n",
        "    hdf.put('test_df',df_final_test, format='table', data_columns=True)\n",
        "    hdf.close()\n",
        "else:\n",
        "    df_final_train = read_hdf('data/fea_sample/storage_sample_stage3.h5', 'train_df',mode='r')\n",
        "    df_final_test = read_hdf('data/fea_sample/storage_sample_stage3.h5', 'test_df',mode='r')"
      ],
      "execution_count": null,
      "outputs": [
        {
          "output_type": "error",
          "ename": "OSError",
          "evalue": "ignored",
          "traceback": [
            "\u001b[0;31m---------------------------------------------------------------------------\u001b[0m",
            "\u001b[0;31mOSError\u001b[0m                                   Traceback (most recent call last)",
            "\u001b[0;32m<ipython-input-81-e38f67b6f5a1>\u001b[0m in \u001b[0;36m<module>\u001b[0;34m()\u001b[0m\n\u001b[1;32m     37\u001b[0m     \u001b[0;31m#================================================================================\u001b[0m\u001b[0;34m\u001b[0m\u001b[0;34m\u001b[0m\u001b[0;34m\u001b[0m\u001b[0m\n\u001b[1;32m     38\u001b[0m \u001b[0;34m\u001b[0m\u001b[0m\n\u001b[0;32m---> 39\u001b[0;31m     \u001b[0mhdf\u001b[0m \u001b[0;34m=\u001b[0m \u001b[0mHDFStore\u001b[0m\u001b[0;34m(\u001b[0m\u001b[0;34m'data/fea_sample/storage_sample_stage3.h5'\u001b[0m\u001b[0;34m)\u001b[0m\u001b[0;34m\u001b[0m\u001b[0;34m\u001b[0m\u001b[0m\n\u001b[0m\u001b[1;32m     40\u001b[0m     \u001b[0mhdf\u001b[0m\u001b[0;34m.\u001b[0m\u001b[0mput\u001b[0m\u001b[0;34m(\u001b[0m\u001b[0;34m'train_df'\u001b[0m\u001b[0;34m,\u001b[0m\u001b[0mdf_final_train\u001b[0m\u001b[0;34m,\u001b[0m \u001b[0mformat\u001b[0m\u001b[0;34m=\u001b[0m\u001b[0;34m'table'\u001b[0m\u001b[0;34m,\u001b[0m \u001b[0mdata_columns\u001b[0m\u001b[0;34m=\u001b[0m\u001b[0;32mTrue\u001b[0m\u001b[0;34m)\u001b[0m\u001b[0;34m\u001b[0m\u001b[0;34m\u001b[0m\u001b[0m\n\u001b[1;32m     41\u001b[0m     \u001b[0mhdf\u001b[0m\u001b[0;34m.\u001b[0m\u001b[0mput\u001b[0m\u001b[0;34m(\u001b[0m\u001b[0;34m'test_df'\u001b[0m\u001b[0;34m,\u001b[0m\u001b[0mdf_final_test\u001b[0m\u001b[0;34m,\u001b[0m \u001b[0mformat\u001b[0m\u001b[0;34m=\u001b[0m\u001b[0;34m'table'\u001b[0m\u001b[0;34m,\u001b[0m \u001b[0mdata_columns\u001b[0m\u001b[0;34m=\u001b[0m\u001b[0;32mTrue\u001b[0m\u001b[0;34m)\u001b[0m\u001b[0;34m\u001b[0m\u001b[0;34m\u001b[0m\u001b[0m\n",
            "\u001b[0;32m/usr/local/lib/python3.7/dist-packages/pandas/io/pytables.py\u001b[0m in \u001b[0;36m__init__\u001b[0;34m(self, path, mode, complevel, complib, fletcher32, **kwargs)\u001b[0m\n\u001b[1;32m    589\u001b[0m         \u001b[0mself\u001b[0m\u001b[0;34m.\u001b[0m\u001b[0m_fletcher32\u001b[0m \u001b[0;34m=\u001b[0m \u001b[0mfletcher32\u001b[0m\u001b[0;34m\u001b[0m\u001b[0;34m\u001b[0m\u001b[0m\n\u001b[1;32m    590\u001b[0m         \u001b[0mself\u001b[0m\u001b[0;34m.\u001b[0m\u001b[0m_filters\u001b[0m \u001b[0;34m=\u001b[0m \u001b[0;32mNone\u001b[0m\u001b[0;34m\u001b[0m\u001b[0;34m\u001b[0m\u001b[0m\n\u001b[0;32m--> 591\u001b[0;31m         \u001b[0mself\u001b[0m\u001b[0;34m.\u001b[0m\u001b[0mopen\u001b[0m\u001b[0;34m(\u001b[0m\u001b[0mmode\u001b[0m\u001b[0;34m=\u001b[0m\u001b[0mmode\u001b[0m\u001b[0;34m,\u001b[0m \u001b[0;34m**\u001b[0m\u001b[0mkwargs\u001b[0m\u001b[0;34m)\u001b[0m\u001b[0;34m\u001b[0m\u001b[0;34m\u001b[0m\u001b[0m\n\u001b[0m\u001b[1;32m    592\u001b[0m \u001b[0;34m\u001b[0m\u001b[0m\n\u001b[1;32m    593\u001b[0m     \u001b[0;32mdef\u001b[0m \u001b[0m__fspath__\u001b[0m\u001b[0;34m(\u001b[0m\u001b[0mself\u001b[0m\u001b[0;34m)\u001b[0m\u001b[0;34m:\u001b[0m\u001b[0;34m\u001b[0m\u001b[0;34m\u001b[0m\u001b[0m\n",
            "\u001b[0;32m/usr/local/lib/python3.7/dist-packages/pandas/io/pytables.py\u001b[0m in \u001b[0;36mopen\u001b[0;34m(self, mode, **kwargs)\u001b[0m\n\u001b[1;32m    738\u001b[0m             \u001b[0;32mraise\u001b[0m \u001b[0mValueError\u001b[0m\u001b[0;34m(\u001b[0m\u001b[0mmsg\u001b[0m\u001b[0;34m)\u001b[0m\u001b[0;34m\u001b[0m\u001b[0;34m\u001b[0m\u001b[0m\n\u001b[1;32m    739\u001b[0m \u001b[0;34m\u001b[0m\u001b[0m\n\u001b[0;32m--> 740\u001b[0;31m         \u001b[0mself\u001b[0m\u001b[0;34m.\u001b[0m\u001b[0m_handle\u001b[0m \u001b[0;34m=\u001b[0m \u001b[0mtables\u001b[0m\u001b[0;34m.\u001b[0m\u001b[0mopen_file\u001b[0m\u001b[0;34m(\u001b[0m\u001b[0mself\u001b[0m\u001b[0;34m.\u001b[0m\u001b[0m_path\u001b[0m\u001b[0;34m,\u001b[0m \u001b[0mself\u001b[0m\u001b[0;34m.\u001b[0m\u001b[0m_mode\u001b[0m\u001b[0;34m,\u001b[0m \u001b[0;34m**\u001b[0m\u001b[0mkwargs\u001b[0m\u001b[0;34m)\u001b[0m\u001b[0;34m\u001b[0m\u001b[0;34m\u001b[0m\u001b[0m\n\u001b[0m\u001b[1;32m    741\u001b[0m \u001b[0;34m\u001b[0m\u001b[0m\n\u001b[1;32m    742\u001b[0m     \u001b[0;32mdef\u001b[0m \u001b[0mclose\u001b[0m\u001b[0;34m(\u001b[0m\u001b[0mself\u001b[0m\u001b[0;34m)\u001b[0m\u001b[0;34m:\u001b[0m\u001b[0;34m\u001b[0m\u001b[0;34m\u001b[0m\u001b[0m\n",
            "\u001b[0;32m/usr/local/lib/python3.7/dist-packages/tables/file.py\u001b[0m in \u001b[0;36mopen_file\u001b[0;34m(filename, mode, title, root_uep, filters, **kwargs)\u001b[0m\n\u001b[1;32m    298\u001b[0m \u001b[0;34m\u001b[0m\u001b[0m\n\u001b[1;32m    299\u001b[0m     \u001b[0;31m# Finally, create the File instance, and return it\u001b[0m\u001b[0;34m\u001b[0m\u001b[0;34m\u001b[0m\u001b[0;34m\u001b[0m\u001b[0m\n\u001b[0;32m--> 300\u001b[0;31m     \u001b[0;32mreturn\u001b[0m \u001b[0mFile\u001b[0m\u001b[0;34m(\u001b[0m\u001b[0mfilename\u001b[0m\u001b[0;34m,\u001b[0m \u001b[0mmode\u001b[0m\u001b[0;34m,\u001b[0m \u001b[0mtitle\u001b[0m\u001b[0;34m,\u001b[0m \u001b[0mroot_uep\u001b[0m\u001b[0;34m,\u001b[0m \u001b[0mfilters\u001b[0m\u001b[0;34m,\u001b[0m \u001b[0;34m**\u001b[0m\u001b[0mkwargs\u001b[0m\u001b[0;34m)\u001b[0m\u001b[0;34m\u001b[0m\u001b[0;34m\u001b[0m\u001b[0m\n\u001b[0m\u001b[1;32m    301\u001b[0m \u001b[0;34m\u001b[0m\u001b[0m\n\u001b[1;32m    302\u001b[0m \u001b[0;34m\u001b[0m\u001b[0m\n",
            "\u001b[0;32m/usr/local/lib/python3.7/dist-packages/tables/file.py\u001b[0m in \u001b[0;36m__init__\u001b[0;34m(self, filename, mode, title, root_uep, filters, **kwargs)\u001b[0m\n\u001b[1;32m    748\u001b[0m \u001b[0;34m\u001b[0m\u001b[0m\n\u001b[1;32m    749\u001b[0m         \u001b[0;31m# Now, it is time to initialize the File extension\u001b[0m\u001b[0;34m\u001b[0m\u001b[0;34m\u001b[0m\u001b[0;34m\u001b[0m\u001b[0m\n\u001b[0;32m--> 750\u001b[0;31m         \u001b[0mself\u001b[0m\u001b[0;34m.\u001b[0m\u001b[0m_g_new\u001b[0m\u001b[0;34m(\u001b[0m\u001b[0mfilename\u001b[0m\u001b[0;34m,\u001b[0m \u001b[0mmode\u001b[0m\u001b[0;34m,\u001b[0m \u001b[0;34m**\u001b[0m\u001b[0mparams\u001b[0m\u001b[0;34m)\u001b[0m\u001b[0;34m\u001b[0m\u001b[0;34m\u001b[0m\u001b[0m\n\u001b[0m\u001b[1;32m    751\u001b[0m \u001b[0;34m\u001b[0m\u001b[0m\n\u001b[1;32m    752\u001b[0m         \u001b[0;31m# Check filters and set PyTables format version for new files.\u001b[0m\u001b[0;34m\u001b[0m\u001b[0;34m\u001b[0m\u001b[0;34m\u001b[0m\u001b[0m\n",
            "\u001b[0;32m/usr/local/lib/python3.7/dist-packages/tables/hdf5extension.pyx\u001b[0m in \u001b[0;36mtables.hdf5extension.File._g_new\u001b[0;34m()\u001b[0m\n",
            "\u001b[0;32m/usr/local/lib/python3.7/dist-packages/tables/utils.py\u001b[0m in \u001b[0;36mcheck_file_access\u001b[0;34m(filename, mode)\u001b[0m\n\u001b[1;32m    167\u001b[0m             \u001b[0mcheck_file_access\u001b[0m\u001b[0;34m(\u001b[0m\u001b[0mpath\u001b[0m\u001b[0;34m,\u001b[0m \u001b[0;34m'r+'\u001b[0m\u001b[0;34m)\u001b[0m\u001b[0;34m\u001b[0m\u001b[0;34m\u001b[0m\u001b[0m\n\u001b[1;32m    168\u001b[0m         \u001b[0;32melse\u001b[0m\u001b[0;34m:\u001b[0m\u001b[0;34m\u001b[0m\u001b[0;34m\u001b[0m\u001b[0m\n\u001b[0;32m--> 169\u001b[0;31m             \u001b[0mcheck_file_access\u001b[0m\u001b[0;34m(\u001b[0m\u001b[0mpath\u001b[0m\u001b[0;34m,\u001b[0m \u001b[0;34m'w'\u001b[0m\u001b[0;34m)\u001b[0m\u001b[0;34m\u001b[0m\u001b[0;34m\u001b[0m\u001b[0m\n\u001b[0m\u001b[1;32m    170\u001b[0m     \u001b[0;32melif\u001b[0m \u001b[0mmode\u001b[0m \u001b[0;34m==\u001b[0m \u001b[0;34m'r+'\u001b[0m\u001b[0;34m:\u001b[0m\u001b[0;34m\u001b[0m\u001b[0;34m\u001b[0m\u001b[0m\n\u001b[1;32m    171\u001b[0m         \u001b[0mcheck_file_access\u001b[0m\u001b[0;34m(\u001b[0m\u001b[0mpath\u001b[0m\u001b[0;34m,\u001b[0m \u001b[0;34m'r'\u001b[0m\u001b[0;34m)\u001b[0m\u001b[0;34m\u001b[0m\u001b[0;34m\u001b[0m\u001b[0m\n",
            "\u001b[0;32m/usr/local/lib/python3.7/dist-packages/tables/utils.py\u001b[0m in \u001b[0;36mcheck_file_access\u001b[0;34m(filename, mode)\u001b[0m\n\u001b[1;32m    155\u001b[0m             \u001b[0;31m# so the directory should be writable.\u001b[0m\u001b[0;34m\u001b[0m\u001b[0;34m\u001b[0m\u001b[0;34m\u001b[0m\u001b[0m\n\u001b[1;32m    156\u001b[0m             \u001b[0;32mif\u001b[0m \u001b[0;32mnot\u001b[0m \u001b[0mos\u001b[0m\u001b[0;34m.\u001b[0m\u001b[0maccess\u001b[0m\u001b[0;34m(\u001b[0m\u001b[0mpath\u001b[0m\u001b[0;34m.\u001b[0m\u001b[0mparent\u001b[0m\u001b[0;34m,\u001b[0m \u001b[0mos\u001b[0m\u001b[0;34m.\u001b[0m\u001b[0mF_OK\u001b[0m\u001b[0;34m)\u001b[0m\u001b[0;34m:\u001b[0m\u001b[0;34m\u001b[0m\u001b[0;34m\u001b[0m\u001b[0m\n\u001b[0;32m--> 157\u001b[0;31m                 \u001b[0;32mraise\u001b[0m \u001b[0mOSError\u001b[0m\u001b[0;34m(\u001b[0m\u001b[0;34mf\"``{path.parent}`` does not exist\"\u001b[0m\u001b[0;34m)\u001b[0m\u001b[0;34m\u001b[0m\u001b[0;34m\u001b[0m\u001b[0m\n\u001b[0m\u001b[1;32m    158\u001b[0m             \u001b[0;32mif\u001b[0m \u001b[0;32mnot\u001b[0m \u001b[0mpath\u001b[0m\u001b[0;34m.\u001b[0m\u001b[0mparent\u001b[0m\u001b[0;34m.\u001b[0m\u001b[0mis_dir\u001b[0m\u001b[0;34m(\u001b[0m\u001b[0;34m)\u001b[0m\u001b[0;34m:\u001b[0m\u001b[0;34m\u001b[0m\u001b[0;34m\u001b[0m\u001b[0m\n\u001b[1;32m    159\u001b[0m                 \u001b[0;32mraise\u001b[0m \u001b[0mOSError\u001b[0m\u001b[0;34m(\u001b[0m\u001b[0;34mf\"``{path.parent}`` is not a directory\"\u001b[0m\u001b[0;34m)\u001b[0m\u001b[0;34m\u001b[0m\u001b[0;34m\u001b[0m\u001b[0m\n",
            "\u001b[0;31mOSError\u001b[0m: ``/content/data/fea_sample`` does not exist"
          ]
        }
      ]
    },
    {
      "cell_type": "code",
      "source": [
        "df_final_train.head(2)"
      ],
      "metadata": {
        "colab": {
          "base_uri": "https://localhost:8080/",
          "height": 240
        },
        "id": "Kz95sFBmzFTk",
        "outputId": "dff6428a-a347-4b9a-fc8d-a153250b71f7"
      },
      "execution_count": null,
      "outputs": [
        {
          "output_type": "execute_result",
          "data": {
            "text/plain": [
              "   source_node  destination_node  indicator_link  num_followers_s  \\\n",
              "0       273084           1505602               1               11   \n",
              "1      1722833            544361               1                4   \n",
              "\n",
              "   num_followers_d  num_followees_s  num_followees_d  inter_followers  \\\n",
              "0               15                6                8                0   \n",
              "1                4                4                2                1   \n",
              "\n",
              "   inter_followees  jaccard_followers  ...  weight_f3  weight_f4  \\\n",
              "0                0                  0  ...   1.005929   0.877964   \n",
              "1                1                  0  ...   1.341641   1.341641   \n",
              "\n",
              "    page_rank_s   page_rank_d    katz_s    katz_d        hubs_s        hubs_d  \\\n",
              "0  2.045290e-06  3.459963e-07  0.000773  0.000756  1.943132e-13  1.941103e-13   \n",
              "1  7.821220e-07  6.230105e-07  0.000746  0.000746  1.261588e-19  1.254072e-19   \n",
              "\n",
              "   authorities_s  authorities_d  \n",
              "0   9.226337e-16   2.231877e-15  \n",
              "1   2.195454e-19   2.367963e-19  \n",
              "\n",
              "[2 rows x 31 columns]"
            ],
            "text/html": [
              "\n",
              "  <div id=\"df-6dd68f2e-b956-4443-8e08-1f48c258c004\">\n",
              "    <div class=\"colab-df-container\">\n",
              "      <div>\n",
              "<style scoped>\n",
              "    .dataframe tbody tr th:only-of-type {\n",
              "        vertical-align: middle;\n",
              "    }\n",
              "\n",
              "    .dataframe tbody tr th {\n",
              "        vertical-align: top;\n",
              "    }\n",
              "\n",
              "    .dataframe thead th {\n",
              "        text-align: right;\n",
              "    }\n",
              "</style>\n",
              "<table border=\"1\" class=\"dataframe\">\n",
              "  <thead>\n",
              "    <tr style=\"text-align: right;\">\n",
              "      <th></th>\n",
              "      <th>source_node</th>\n",
              "      <th>destination_node</th>\n",
              "      <th>indicator_link</th>\n",
              "      <th>num_followers_s</th>\n",
              "      <th>num_followers_d</th>\n",
              "      <th>num_followees_s</th>\n",
              "      <th>num_followees_d</th>\n",
              "      <th>inter_followers</th>\n",
              "      <th>inter_followees</th>\n",
              "      <th>jaccard_followers</th>\n",
              "      <th>...</th>\n",
              "      <th>weight_f3</th>\n",
              "      <th>weight_f4</th>\n",
              "      <th>page_rank_s</th>\n",
              "      <th>page_rank_d</th>\n",
              "      <th>katz_s</th>\n",
              "      <th>katz_d</th>\n",
              "      <th>hubs_s</th>\n",
              "      <th>hubs_d</th>\n",
              "      <th>authorities_s</th>\n",
              "      <th>authorities_d</th>\n",
              "    </tr>\n",
              "  </thead>\n",
              "  <tbody>\n",
              "    <tr>\n",
              "      <th>0</th>\n",
              "      <td>273084</td>\n",
              "      <td>1505602</td>\n",
              "      <td>1</td>\n",
              "      <td>11</td>\n",
              "      <td>15</td>\n",
              "      <td>6</td>\n",
              "      <td>8</td>\n",
              "      <td>0</td>\n",
              "      <td>0</td>\n",
              "      <td>0</td>\n",
              "      <td>...</td>\n",
              "      <td>1.005929</td>\n",
              "      <td>0.877964</td>\n",
              "      <td>2.045290e-06</td>\n",
              "      <td>3.459963e-07</td>\n",
              "      <td>0.000773</td>\n",
              "      <td>0.000756</td>\n",
              "      <td>1.943132e-13</td>\n",
              "      <td>1.941103e-13</td>\n",
              "      <td>9.226337e-16</td>\n",
              "      <td>2.231877e-15</td>\n",
              "    </tr>\n",
              "    <tr>\n",
              "      <th>1</th>\n",
              "      <td>1722833</td>\n",
              "      <td>544361</td>\n",
              "      <td>1</td>\n",
              "      <td>4</td>\n",
              "      <td>4</td>\n",
              "      <td>4</td>\n",
              "      <td>2</td>\n",
              "      <td>1</td>\n",
              "      <td>1</td>\n",
              "      <td>0</td>\n",
              "      <td>...</td>\n",
              "      <td>1.341641</td>\n",
              "      <td>1.341641</td>\n",
              "      <td>7.821220e-07</td>\n",
              "      <td>6.230105e-07</td>\n",
              "      <td>0.000746</td>\n",
              "      <td>0.000746</td>\n",
              "      <td>1.261588e-19</td>\n",
              "      <td>1.254072e-19</td>\n",
              "      <td>2.195454e-19</td>\n",
              "      <td>2.367963e-19</td>\n",
              "    </tr>\n",
              "  </tbody>\n",
              "</table>\n",
              "<p>2 rows × 31 columns</p>\n",
              "</div>\n",
              "      <button class=\"colab-df-convert\" onclick=\"convertToInteractive('df-6dd68f2e-b956-4443-8e08-1f48c258c004')\"\n",
              "              title=\"Convert this dataframe to an interactive table.\"\n",
              "              style=\"display:none;\">\n",
              "        \n",
              "  <svg xmlns=\"http://www.w3.org/2000/svg\" height=\"24px\"viewBox=\"0 0 24 24\"\n",
              "       width=\"24px\">\n",
              "    <path d=\"M0 0h24v24H0V0z\" fill=\"none\"/>\n",
              "    <path d=\"M18.56 5.44l.94 2.06.94-2.06 2.06-.94-2.06-.94-.94-2.06-.94 2.06-2.06.94zm-11 1L8.5 8.5l.94-2.06 2.06-.94-2.06-.94L8.5 2.5l-.94 2.06-2.06.94zm10 10l.94 2.06.94-2.06 2.06-.94-2.06-.94-.94-2.06-.94 2.06-2.06.94z\"/><path d=\"M17.41 7.96l-1.37-1.37c-.4-.4-.92-.59-1.43-.59-.52 0-1.04.2-1.43.59L10.3 9.45l-7.72 7.72c-.78.78-.78 2.05 0 2.83L4 21.41c.39.39.9.59 1.41.59.51 0 1.02-.2 1.41-.59l7.78-7.78 2.81-2.81c.8-.78.8-2.07 0-2.86zM5.41 20L4 18.59l7.72-7.72 1.47 1.35L5.41 20z\"/>\n",
              "  </svg>\n",
              "      </button>\n",
              "      \n",
              "  <style>\n",
              "    .colab-df-container {\n",
              "      display:flex;\n",
              "      flex-wrap:wrap;\n",
              "      gap: 12px;\n",
              "    }\n",
              "\n",
              "    .colab-df-convert {\n",
              "      background-color: #E8F0FE;\n",
              "      border: none;\n",
              "      border-radius: 50%;\n",
              "      cursor: pointer;\n",
              "      display: none;\n",
              "      fill: #1967D2;\n",
              "      height: 32px;\n",
              "      padding: 0 0 0 0;\n",
              "      width: 32px;\n",
              "    }\n",
              "\n",
              "    .colab-df-convert:hover {\n",
              "      background-color: #E2EBFA;\n",
              "      box-shadow: 0px 1px 2px rgba(60, 64, 67, 0.3), 0px 1px 3px 1px rgba(60, 64, 67, 0.15);\n",
              "      fill: #174EA6;\n",
              "    }\n",
              "\n",
              "    [theme=dark] .colab-df-convert {\n",
              "      background-color: #3B4455;\n",
              "      fill: #D2E3FC;\n",
              "    }\n",
              "\n",
              "    [theme=dark] .colab-df-convert:hover {\n",
              "      background-color: #434B5C;\n",
              "      box-shadow: 0px 1px 3px 1px rgba(0, 0, 0, 0.15);\n",
              "      filter: drop-shadow(0px 1px 2px rgba(0, 0, 0, 0.3));\n",
              "      fill: #FFFFFF;\n",
              "    }\n",
              "  </style>\n",
              "\n",
              "      <script>\n",
              "        const buttonEl =\n",
              "          document.querySelector('#df-6dd68f2e-b956-4443-8e08-1f48c258c004 button.colab-df-convert');\n",
              "        buttonEl.style.display =\n",
              "          google.colab.kernel.accessAllowed ? 'block' : 'none';\n",
              "\n",
              "        async function convertToInteractive(key) {\n",
              "          const element = document.querySelector('#df-6dd68f2e-b956-4443-8e08-1f48c258c004');\n",
              "          const dataTable =\n",
              "            await google.colab.kernel.invokeFunction('convertToInteractive',\n",
              "                                                     [key], {});\n",
              "          if (!dataTable) return;\n",
              "\n",
              "          const docLinkHtml = 'Like what you see? Visit the ' +\n",
              "            '<a target=\"_blank\" href=https://colab.research.google.com/notebooks/data_table.ipynb>data table notebook</a>'\n",
              "            + ' to learn more about interactive tables.';\n",
              "          element.innerHTML = '';\n",
              "          dataTable['output_type'] = 'display_data';\n",
              "          await google.colab.output.renderOutput(dataTable, element);\n",
              "          const docLink = document.createElement('div');\n",
              "          docLink.innerHTML = docLinkHtml;\n",
              "          element.appendChild(docLink);\n",
              "        }\n",
              "      </script>\n",
              "    </div>\n",
              "  </div>\n",
              "  "
            ]
          },
          "metadata": {},
          "execution_count": 82
        }
      ]
    },
    {
      "cell_type": "code",
      "source": [
        ""
      ],
      "metadata": {
        "id": "HFZcp0ishUJg"
      },
      "execution_count": null,
      "outputs": []
    }
  ],
  "metadata": {
    "colab": {
      "collapsed_sections": [],
      "machine_shape": "hm",
      "name": "FB_practice_features",
      "provenance": []
    },
    "kernelspec": {
      "display_name": "Python 3",
      "name": "python3"
    }
  },
  "nbformat": 4,
  "nbformat_minor": 0
}